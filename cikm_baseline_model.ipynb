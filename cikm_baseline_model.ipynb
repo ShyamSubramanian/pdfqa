{
  "cells": [
    {
      "cell_type": "markdown",
      "metadata": {
        "id": "eQpJTV7RSVZW"
      },
      "source": [
        "## Environment Setup\n",
        "Import key libraries and working envorinments."
      ]
    },
    {
      "cell_type": "code",
      "execution_count": null,
      "metadata": {
        "colab": {
          "base_uri": "https://localhost:8080/"
        },
        "id": "a-GlywkSFegL",
        "outputId": "c4ad0f6a-669f-4c08-c733-2531717f3384"
      },
      "outputs": [
        {
          "output_type": "stream",
          "name": "stdout",
          "text": [
            "  Installing build dependencies ... \u001b[?25l\u001b[?25hdone\n",
            "  Getting requirements to build wheel ... \u001b[?25l\u001b[?25hdone\n",
            "  Preparing metadata (pyproject.toml) ... \u001b[?25l\u001b[?25hdone\n",
            "\u001b[2K     \u001b[90m━━━━━━━━━━━━━━━━━━━━━━━━━━━━━━━━━━━━━━━━\u001b[0m \u001b[32m311.2/311.2 kB\u001b[0m \u001b[31m5.1 MB/s\u001b[0m eta \u001b[36m0:00:00\u001b[0m\n",
            "\u001b[2K     \u001b[90m━━━━━━━━━━━━━━━━━━━━━━━━━━━━━━━━━━━━━━━━\u001b[0m \u001b[32m3.8/3.8 MB\u001b[0m \u001b[31m61.9 MB/s\u001b[0m eta \u001b[36m0:00:00\u001b[0m\n",
            "\u001b[2K     \u001b[90m━━━━━━━━━━━━━━━━━━━━━━━━━━━━━━━━━━━━━━━━\u001b[0m \u001b[32m1.3/1.3 MB\u001b[0m \u001b[31m86.5 MB/s\u001b[0m eta \u001b[36m0:00:00\u001b[0m\n",
            "\u001b[?25h  Building wheel for transformers (pyproject.toml) ... \u001b[?25l\u001b[?25hdone\n"
          ]
        }
      ],
      "source": [
        "import os\n",
        "!pip install -q git+https://github.com/huggingface/transformers.git"
      ]
    },
    {
      "cell_type": "code",
      "execution_count": null,
      "metadata": {
        "id": "979OUro5Eac3"
      },
      "outputs": [],
      "source": [
        "# Importing the libraries needed\n",
        "import pandas as pd\n",
        "import numpy as np\n",
        "import json, pickle\n",
        "from sklearn.model_selection import train_test_split\n",
        "import torch\n",
        "import seaborn as sns\n",
        "import transformers\n",
        "import json\n",
        "from tqdm import tqdm\n",
        "from torch.utils.data import Dataset, DataLoader\n",
        "from transformers import AutoTokenizer,BertModel, BertForPreTraining\n",
        "\n",
        "import logging\n",
        "logging.basicConfig(level=logging.ERROR)\n",
        "# Setting up the device for GPU usage\n",
        "\n",
        "from torch import cuda\n",
        "device = 'cuda' if cuda.is_available() else 'cpu'"
      ]
    },
    {
      "cell_type": "markdown",
      "metadata": {
        "id": "cJjfftEpSkfm"
      },
      "source": [
        "## Loading the training and validation datasets"
      ]
    },
    {
      "cell_type": "code",
      "source": [
        "!pip install -U -q PyDrive\n",
        "from pydrive.auth import GoogleAuth\n",
        "from pydrive.drive import GoogleDrive\n",
        "from google.colab import auth\n",
        "from oauth2client.client import GoogleCredentials\n",
        "import pandas as pd\n",
        "\n",
        "# Authenticate\n",
        "drive = None\n",
        "def authenticate():\n",
        "  global drive\n",
        "\n",
        "  auth.authenticate_user()\n",
        "  gauth = GoogleAuth()\n",
        "  gauth.credentials = GoogleCredentials.get_application_default()\n",
        "  drive = GoogleDrive(gauth)\n",
        "\n",
        "#Download files\n",
        "def downloadFiles(fileIds):\n",
        "  authenticate()\n",
        "\n",
        "  for fileId in fileIds:\n",
        "\n",
        "    downloaded = drive.CreateFile({\"id\": fileId[1]})\n",
        "    downloaded.GetContentFile(fileId[0])"
      ],
      "metadata": {
        "id": "xoUnDH82TDFp"
      },
      "execution_count": null,
      "outputs": []
    },
    {
      "cell_type": "markdown",
      "source": [
        "Load the dataset directly, this is same as the datasets provided by the PDFVQA kaggle competition."
      ],
      "metadata": {
        "id": "6Sv4hwypKHvY"
      }
    },
    {
      "cell_type": "code",
      "source": [
        "# Loading Training dataframe and pickle file\n",
        "try:\n",
        "  _ = open(\"train_dataframe.csv\", \"r\")\n",
        "except:\n",
        "  downloadFiles([[\"train_dataframe.csv\", \"1-hU0-rt31_ZUZcTRZ3tXuUL0d_L5ALQM\"]])\n",
        "\n",
        "try:\n",
        "  _ = open(\"train_doc_info.pkl\", \"r\")\n",
        "except:\n",
        "  downloadFiles([[\"train_doc_info.pkl\", \"1-AhYdD-FvbgfgGvMsi8u4eVlGi5Y2M7V\"]])\n",
        "\n",
        "# Loading Validation dataframe and pickle file\n",
        "try:\n",
        "  _ = open(\"val_dataframe.csv\", \"r\")\n",
        "except:\n",
        "  downloadFiles([[\"val_dataframe.csv\", \"1-xOr1-cCel-LPd75n5W68e_gptzFquWB\"]])\n",
        "\n",
        "try:\n",
        "  _ = open(\"val_doc_info.pkl\", \"r\")\n",
        "except:\n",
        "  downloadFiles([[\"val_doc_info.pkl\", \"1-az6pNeteeUaPlFCiEzkz73Z5G3rVG-m\"]])\n",
        "\n",
        "# Loading Testing dataframe and pickle file\n",
        "try:\n",
        "  _ = open(\"test_dataframe.csv\", \"r\")\n",
        "except:\n",
        "  downloadFiles([[\"test_dataframe.csv\", \"1-searmQar_snnf3Aiz5dEmUDKZDHQj_c\"]])\n",
        "try:\n",
        "  _ = open(\"test_doc_info.pkl\", \"r\")\n",
        "except:\n",
        "  downloadFiles([[\"test_doc_info.pkl\", \"1-PZGZ8yhgeIdbYELmD9TbEJGD6hsPQlp\"]])"
      ],
      "metadata": {
        "id": "2tkk7Vr3TFPc"
      },
      "execution_count": null,
      "outputs": []
    },
    {
      "cell_type": "markdown",
      "source": [
        "Load the extract features. For feature extracting code, please refer the feature extraction tutorial. You can use visual feature extractor to extract visual feature and do similar thing to add visual feature into your framework."
      ],
      "metadata": {
        "id": "QdjoPah7NjY-"
      }
    },
    {
      "cell_type": "code",
      "source": [
        "try:\n",
        "  _ = open(\"train_bert_cls.pkl\", \"r\")\n",
        "except:\n",
        "  downloadFiles([[\"train_bert_cls.pkl\", \"1-2BpxbwzZEhULlYxP2-1DsEo84DyyqyU\"]])\n",
        "try:\n",
        "  _ = open(\"val_bert_cls.pkl\", \"r\")\n",
        "except:\n",
        "  downloadFiles([[\"val_bert_cls.pkl\", \"1Hvd-N2fMfxl1iE0wM6Fv4qtR87TKf9hK\"]])\n",
        "\n",
        "try:\n",
        "  _ = open(\"test_bert_cls.pkl\", \"r\")\n",
        "except:\n",
        "  downloadFiles([[\"test_bert_cls.pkl\", \"1-8V_buBKca12w_IrO16ZFUsJA6Vfsgpk\"]])"
      ],
      "metadata": {
        "id": "44lO5QfgLyvT"
      },
      "execution_count": null,
      "outputs": []
    },
    {
      "cell_type": "code",
      "source": [
        "try:\n",
        "  _ = open(\"val_visual_feats.pkl\", \"r\")\n",
        "except:\n",
        "  downloadFiles([[\"val_visual_feats.pkl\", \"1Z9umISob9ar_5n5T-Cbhr4nbHuQCvVGm\"]])\n",
        "try:\n",
        "  _ = open(\"test_visual_feats.pkl\", \"r\")\n",
        "except:\n",
        "  downloadFiles([[\"test_visual_feats.pkl\", \"1knSVmocw4-_FF98bFMdVSvhnUn3mPUvm\"]])\n",
        "\n",
        "try:\n",
        "  _ = open(\"train_visual_feats.pkl\", \"r\")\n",
        "except:\n",
        "  downloadFiles([[\"train_visual_feats.pkl\", \"1SyEptlqqX-frq_1hSQTxUGGptk6OI9aQ\"]])"
      ],
      "metadata": {
        "id": "oLpW8AGMOd6q"
      },
      "execution_count": null,
      "outputs": []
    },
    {
      "cell_type": "code",
      "source": [
        "with open('train_bert_cls.pkl','rb') as f:\n",
        "  train_bert_cls = pickle.load(f)\n",
        "\n",
        "with open('train_visual_feats.pkl','rb') as f:\n",
        "  train_visual_feats = pickle.load(f)"
      ],
      "metadata": {
        "id": "EP6Q8YmCtBbk"
      },
      "execution_count": null,
      "outputs": []
    },
    {
      "cell_type": "code",
      "source": [
        "print(len(train_visual_feats.keys()))"
      ],
      "metadata": {
        "colab": {
          "base_uri": "https://localhost:8080/"
        },
        "id": "K6qrOcV7PtnP",
        "outputId": "58af171a-4415-45a3-b7d2-120c34a6cf7a"
      },
      "execution_count": null,
      "outputs": [
        {
          "output_type": "stream",
          "name": "stdout",
          "text": [
            "800\n"
          ]
        }
      ]
    },
    {
      "cell_type": "markdown",
      "source": [
        "Here we add another key \"bert_cls\" to store the extracted textual representation into train_doc_info."
      ],
      "metadata": {
        "id": "jk43Ec12BzYI"
      }
    },
    {
      "cell_type": "code",
      "source": [
        "bid = 0\n",
        "bert_cls_list = train_bert_cls['bert_cls'].tolist()\n",
        "for doc in train_visual_feats:\n",
        "  for page in train_visual_feats[doc]['pages']:\n",
        "    page_info = train_visual_feats[doc]['pages'][page]\n",
        "    for i,obj in enumerate(page_info['objects']):\n",
        "      objt = page_info['objects'][obj]\n",
        "      objt['bert_cls'] = bert_cls_list[bid]\n",
        "      objt['visual_feats'] = page_info['visual_list'][i]\n",
        "      bid+=1"
      ],
      "metadata": {
        "id": "xUJfFX63tt6m"
      },
      "execution_count": null,
      "outputs": []
    },
    {
      "cell_type": "markdown",
      "source": [
        "Let's load the key information from training dataframe"
      ],
      "metadata": {
        "id": "7nmcTZwkCzy1"
      }
    },
    {
      "cell_type": "code",
      "source": [
        "import ast\n",
        "train_df = pd.read_csv('train_dataframe.csv')\n",
        "train_df = train_df[['question', 'global_id','pmcid']]\n",
        "train_df['global_id'] = train_df['global_id'].apply(ast.literal_eval)"
      ],
      "metadata": {
        "id": "ugLkG7s7CXIU"
      },
      "execution_count": null,
      "outputs": []
    },
    {
      "cell_type": "markdown",
      "metadata": {
        "id": "KvCaqkiiJ_DC"
      },
      "source": [
        "### Add Positional Embedding\n",
        "Positional encoding is vital for indicating the sequence information of transformer inputs."
      ]
    },
    {
      "cell_type": "code",
      "execution_count": null,
      "metadata": {
        "id": "6yetFxqQKB5n"
      },
      "outputs": [],
      "source": [
        "import math\n",
        "import torch\n",
        "# one dimensional feature embedding\n",
        "def positionalencoding1d(d_model, feature_list):\n",
        "    \"\"\"\n",
        "    :param d_model: dimension of the model\n",
        "    :param feature_list: length of positions\n",
        "    :return: length*d_model position matrix\n",
        "    \"\"\"\n",
        "    if d_model % 2 != 0:\n",
        "        raise ValueError(\"Cannot use sin/cos positional encoding with \"\n",
        "                         \"odd dim (got dim={:d})\".format(d_model))\n",
        "    pe = torch.zeros(1, d_model)\n",
        "    feats = torch.tensor(feature_list)\n",
        "    div_term = torch.exp((torch.arange(0, d_model, 2, dtype=torch.float) *\n",
        "                         -(math.log(10000.0) / d_model)))\n",
        "    pe[:, 0::2] = torch.sin(feats.float() * div_term)\n",
        "    pe[:, 1::2] = torch.cos(feats.float() * div_term)\n",
        "    pe = np.array(pe.tolist())\n",
        "    return pe\n",
        "positional_encoding = []\n",
        "for i in range(400):\n",
        "    positional_encoding.append(positionalencoding1d(768,i)[0])\n",
        "positional_encoding = np.array(positional_encoding)"
      ]
    },
    {
      "cell_type": "markdown",
      "metadata": {
        "id": "RbiQjAgdSqhn"
      },
      "source": [
        "## Data Preprocessing"
      ]
    },
    {
      "cell_type": "markdown",
      "source": [
        "Define the dataprocessor for loading training samples. Because we use pre-trained \"bert-base-uncased\" model to encode the question, and a transformer to learn the contextual information between question and input object (RoI) sequence. Thus we need to carefully prepare the inputs of each modules in the dataset preparing session."
      ],
      "metadata": {
        "id": "OCEKlGkbugIc"
      }
    },
    {
      "cell_type": "code",
      "execution_count": null,
      "metadata": {
        "id": "3vWRDemOGxJD",
        "colab": {
          "base_uri": "https://localhost:8080/",
          "referenced_widgets": [
            "1ea2203aa99b4c07a95dbb59f3d22d0e",
            "4add3c9fb2f54962ab9440c59b276335",
            "6691cbdc270842af95c4f628617672a7",
            "cfde15ba03b14297a8b4a489c610dd68",
            "cb2c713319544bd1bc727b2d9d2999d0",
            "1749be99471e47fba3030860dd5d7e78",
            "60c8c471d0f44dfe92bda7c08ac5a8d1",
            "0e2d2cc9c2654f6ea97a69b60c980c62",
            "5fba5dcc6a1c407eabe24643912e2e9e",
            "293706f8b0d547f5bd35cff8ea8ee051",
            "c35ae8579a0348aa823e644d341c2be9",
            "b4950d83bc314a439affc4f12b04f9b9",
            "2371d117da8d4fcdba49c1d7db778fa2",
            "6538a89c0d1f40c1bb5f7723c6ce3b91",
            "9d602f60e0184b26b23d0fc0e0f47f94",
            "7e10288c40834dbdb55b6f3d26d81880",
            "7442f85204a24110b68f48f7fc0e599c",
            "8156ae8ff29843db89eba90fcb12aa2c",
            "144c332d60594a71a6d774ed37755561",
            "bfafb1f78a2844b4b06241bd427bcf07",
            "798e0990d4a44d4db2ef42d1a204556a",
            "1571610295c74cf3be799345bb0a862b",
            "d86aa2997de740f1ba233e2c8fc76550",
            "8409ed7992b74b55b7d6ef407f0fdb73",
            "93c50bebec6c4ce19d8a6b29a74cb261",
            "5885b62d3cbe4d028e81d65c38968bc8",
            "20aad37f81ff4006bc0761797e22a22c",
            "a71ce52a6a47496594c352fb610153a9",
            "33031a3130244ccca302b414e8109f94",
            "19f99539625648629a47ba87adb1f345",
            "62d033facd544a329fc23a3946c4fdf4",
            "a280c8760cc14024ac4531651e70ae8a",
            "79d5ce365a3745c6bf71b342751aa974",
            "61b4660c4f3c4e4cab1f8f5929b87028",
            "1f7854a0eb63429baae407b4bf56659d",
            "760acddd523742038063fe67121add20",
            "6e36954abbc94a16bae4d8f9aa41e298",
            "2f016ba0845a4b539ef379fb786ff6bc",
            "5d59d90451b1441a8da3359b81c58ebf",
            "e9631bb3ad25467c81f15ec9bc48e623",
            "2fe7dddd97a34bad8ae85c0bb5cdc934",
            "e97855721e89454bbe1641a235cd9132",
            "4c99cd246cc345529003e3f801dbf553",
            "1c6bda6f10b142c3ae46ea66e07b196b"
          ]
        },
        "outputId": "b1effa3c-a7b4-4511-ff7b-3d88b84fa3e6"
      },
      "outputs": [
        {
          "output_type": "display_data",
          "data": {
            "text/plain": [
              "(…)cased/resolve/main/tokenizer_config.json:   0%|          | 0.00/28.0 [00:00<?, ?B/s]"
            ],
            "application/vnd.jupyter.widget-view+json": {
              "version_major": 2,
              "version_minor": 0,
              "model_id": "1ea2203aa99b4c07a95dbb59f3d22d0e"
            }
          },
          "metadata": {}
        },
        {
          "output_type": "display_data",
          "data": {
            "text/plain": [
              "(…)rt-base-uncased/resolve/main/config.json:   0%|          | 0.00/570 [00:00<?, ?B/s]"
            ],
            "application/vnd.jupyter.widget-view+json": {
              "version_major": 2,
              "version_minor": 0,
              "model_id": "b4950d83bc314a439affc4f12b04f9b9"
            }
          },
          "metadata": {}
        },
        {
          "output_type": "display_data",
          "data": {
            "text/plain": [
              "(…)bert-base-uncased/resolve/main/vocab.txt:   0%|          | 0.00/232k [00:00<?, ?B/s]"
            ],
            "application/vnd.jupyter.widget-view+json": {
              "version_major": 2,
              "version_minor": 0,
              "model_id": "d86aa2997de740f1ba233e2c8fc76550"
            }
          },
          "metadata": {}
        },
        {
          "output_type": "display_data",
          "data": {
            "text/plain": [
              "(…)base-uncased/resolve/main/tokenizer.json:   0%|          | 0.00/466k [00:00<?, ?B/s]"
            ],
            "application/vnd.jupyter.widget-view+json": {
              "version_major": 2,
              "version_minor": 0,
              "model_id": "61b4660c4f3c4e4cab1f8f5929b87028"
            }
          },
          "metadata": {}
        }
      ],
      "source": [
        "tokenizer = AutoTokenizer.from_pretrained(\"bert-base-uncased\", truncation=True, do_lower_case=True)\n",
        "def convert_index2onehot(ids, max_len):\n",
        "  one_hot = [0]*max_len\n",
        "  for id in ids:\n",
        "    one_hot[int(id)] = 1\n",
        "  return one_hot\n",
        "class pdfvqa_training(Dataset):\n",
        "    def __init__(self, dataframe, doc_info, tokenizer, max_len, position_emb):\n",
        "        self.tokenizer = tokenizer\n",
        "        self.data = dataframe\n",
        "        self.text = dataframe.question\n",
        "        self.global_ids = self.data.global_id\n",
        "        self.doc_info = doc_info\n",
        "        self.padding_len = max_len\n",
        "        self.doc_id = dataframe.pmcid\n",
        "        self.position_emb = position_emb\n",
        "\n",
        "    def __len__(self):\n",
        "        return len(self.text)\n",
        "\n",
        "    def __getitem__(self, index):\n",
        "        # First encode the question text into input_ids for feeding into selected pre-trained language model\n",
        "        text = self.text[index]\n",
        "        inputs = self.tokenizer.encode_plus(\n",
        "            text,\n",
        "            None,\n",
        "            add_special_tokens=True,\n",
        "            max_length=100,\n",
        "            pad_to_max_length=True,\n",
        "            return_token_type_ids=True\n",
        "        )\n",
        "        ids = inputs['input_ids']\n",
        "        mask = inputs['attention_mask']\n",
        "        token_type_ids = inputs[\"token_type_ids\"]\n",
        "\n",
        "        # After getting the inputs for language model inputs.\n",
        "        bert_cls = [] # Create a list to store the bert_cls features of input sequence\n",
        "        visual_feats = [] # Create a list to store the visual features of input sequence\n",
        "        doc_id = str(self.doc_id[index]) # Convert the int type pmic id to string type\n",
        "        target_id = [] # Keep the answer id of input sequence\n",
        "        t_id = 0 # Object ID of input sequence\n",
        "\n",
        "\n",
        "        # Then we need to generate the target list and input sequnece\n",
        "        # If any additional features are adopted, similar way to generate textual input sequence and be refered.\n",
        "        for p in self.doc_info[doc_id]['pages']:\n",
        "          page = self.doc_info[doc_id]['pages'][p]\n",
        "          for obj in page['objects']:\n",
        "            objt = page['objects'][obj]\n",
        "            bert_cls.append(objt['bert_cls'])\n",
        "            visual_feats.append(objt['visual_feats'])\n",
        "\n",
        "            if objt['global_id'] in self.global_ids[index]:\n",
        "              target_id.append(t_id)\n",
        "            t_id += 1\n",
        "\n",
        "        # Dealing with the empty output\n",
        "        if len(target_id) == 0:\n",
        "          target_id.append(399)\n",
        "\n",
        "        # Ensure the all input sequences have the same input size (number of RoIs).\n",
        "        if len(bert_cls) >= self.padding_len:\n",
        "          bert_cls = bert_cls[:self.padding_len]\n",
        "          visual_feats = visual_feats[:self.padding_len]\n",
        "\n",
        "        else:\n",
        "          bert_cls.extend([[0.0]*768]*(self.padding_len-len(bert_cls)))\n",
        "          visual_feats.extend([[0.0]*2048]*(self.padding_len-len(visual_feats)))\n",
        "\n",
        "\n",
        "        target = convert_index2onehot(target_id,self.padding_len)\n",
        "\n",
        "        return {\n",
        "            'ids': torch.tensor(ids, dtype=torch.long), # Question input_ids generated by tokenizer.encode of selected pre-trained model\n",
        "            'mask': torch.tensor(mask, dtype=torch.long),\n",
        "            'token_type_ids': torch.tensor(token_type_ids, dtype=torch.long),\n",
        "            'targets': torch.tensor(target, dtype=torch.float),\n",
        "            'bert_cls': torch.tensor(bert_cls, dtype=torch.float),\n",
        "            'visual_feats': torch.tensor(visual_feats, dtype=torch.float),\n",
        "            'position_emb': torch.tensor(self.position_emb, dtype=torch.float),\n",
        "        }\n",
        "training_set = pdfvqa_training(train_df, train_visual_feats, tokenizer, 400, positional_encoding)\n",
        "train_params = {'batch_size': 8,\n",
        "                'shuffle': True,\n",
        "                'num_workers': 0\n",
        "                }\n",
        "training_loader = DataLoader(training_set, **train_params)"
      ]
    },
    {
      "cell_type": "markdown",
      "metadata": {
        "id": "jF12YgfxSwEr"
      },
      "source": [
        "## Define the baseline models\n",
        "We define a transformer-based baseline model to learn the contextual information of each RoI features. A pointer net is build on top of augmented feature representations."
      ]
    },
    {
      "cell_type": "code",
      "source": [
        "\n",
        "import torch.nn.functional as F\n",
        "class qa_models(torch.nn.Module):\n",
        "    def __init__(self):\n",
        "        super(qa_models, self).__init__()\n",
        "        self.l1 = BertModel.from_pretrained(\"bert-base-uncased\")# bert-base encoder to encode the question representation\n",
        "        self.pre_classifier = torch.nn.Linear(768, 768)\n",
        "        self.dropout = torch.nn.Dropout(0.1)\n",
        "        self.visual_projector = torch.nn.Linear(2048,768)\n",
        "        self.object_linear = torch.nn.Linear(768*2,768)\n",
        "\n",
        "        self.encoder_layer = torch.nn.TransformerEncoderLayer(d_model=768, nhead=8,batch_first=True) # A transformer decoder layer to learn the coherenece between questions and RoI features\n",
        "        self.transformer_encoder = torch.nn.TransformerEncoder(self.encoder_layer, num_layers=2)\n",
        "\n",
        "        self.decoder_layer = torch.nn.TransformerDecoderLayer(d_model=768, nhead=8,batch_first=True) # A transformer decoder layer to learn the coherenece between questions and RoI features\n",
        "        self.transformer_decoder = torch.nn.TransformerDecoder(self.decoder_layer, num_layers=2)\n",
        "        self.classifier = torch.nn.Linear(768, 1)\n",
        "\n",
        "\n",
        "\n",
        "    def forward(self, input_ids, attention_mask, token_type_ids, bert_cls, visual_feats, position_emb):\n",
        "        # Extracting the question representation from bert-base backbone\n",
        "        output_1 = self.l1(input_ids=input_ids, attention_mask=attention_mask, token_type_ids=token_type_ids)\n",
        "        hidden_state = output_1[0]\n",
        "        question = hidden_state[:,:]\n",
        "        question = self.pre_classifier(question)\n",
        "        question = torch.nn.Tanh()(question)\n",
        "        question = self.dropout(question)\n",
        "        visual_feats = self.visual_projector(visual_feats)\n",
        "        objt_emb = torch.cat((visual_feats,bert_cls),dim=2)\n",
        "        objt_emb = self.object_linear(objt_emb)\n",
        "\n",
        "        # Adding the position encoding to the RoI feature representations\n",
        "        # In this baseline, we only use the textual representation in this baseline model. You can explore the effectiveness of other features.\n",
        "\n",
        "        objt_emb = objt_emb + position_emb\n",
        "\n",
        "        # Transformer decoder layer to learn the corelation between questions and RoI features\n",
        "        encoder_output = self.transformer_encoder(objt_emb)\n",
        "\n",
        "        decoder_output = self.transformer_decoder(encoder_output,question)\n",
        "\n",
        "        # A pointernet layer to predict the answer\n",
        "        output1 = self.classifier(decoder_output)\n",
        "        output1 = output1.squeeze(2)\n",
        "\n",
        "        return output1\n"
      ],
      "metadata": {
        "id": "i6Xg-QhoL3ZK"
      },
      "execution_count": null,
      "outputs": []
    },
    {
      "cell_type": "code",
      "execution_count": null,
      "metadata": {
        "id": "sZ55mIPZIkp_",
        "colab": {
          "base_uri": "https://localhost:8080/",
          "height": 1000,
          "referenced_widgets": [
            "0c503fcdf6be41b9aca8ac169186f5d3",
            "6593fcb29069499dbce891ae4956ae9e",
            "42128505a5dd4a178a82e4f0ae1d6f42",
            "30119472296d4a6da2d6e747af33c9d2",
            "24d1534e71194778be66a06e0f2b5ca1",
            "8794e8d9adfe48288ab53fc743dc88d7",
            "2e8c4cccebe249259ef38f160003370f",
            "a3a4937eb4e84f16b9043a0832b5eaf5",
            "40d4d688781a439d9938cadc719dc714",
            "cf32924d97114b3a9d14b736ad89b165",
            "f7be9f8783ee4c11b005cd3a5d228f2f"
          ]
        },
        "outputId": "05dc4027-9190-435c-b331-8dcfe1fefac8"
      },
      "outputs": [
        {
          "output_type": "display_data",
          "data": {
            "text/plain": [
              "model.safetensors:   0%|          | 0.00/440M [00:00<?, ?B/s]"
            ],
            "application/vnd.jupyter.widget-view+json": {
              "version_major": 2,
              "version_minor": 0,
              "model_id": "0c503fcdf6be41b9aca8ac169186f5d3"
            }
          },
          "metadata": {}
        },
        {
          "output_type": "execute_result",
          "data": {
            "text/plain": [
              "qa_models(\n",
              "  (l1): BertModel(\n",
              "    (embeddings): BertEmbeddings(\n",
              "      (word_embeddings): Embedding(30522, 768, padding_idx=0)\n",
              "      (position_embeddings): Embedding(512, 768)\n",
              "      (token_type_embeddings): Embedding(2, 768)\n",
              "      (LayerNorm): LayerNorm((768,), eps=1e-12, elementwise_affine=True)\n",
              "      (dropout): Dropout(p=0.1, inplace=False)\n",
              "    )\n",
              "    (encoder): BertEncoder(\n",
              "      (layer): ModuleList(\n",
              "        (0-11): 12 x BertLayer(\n",
              "          (attention): BertAttention(\n",
              "            (self): BertSelfAttention(\n",
              "              (query): Linear(in_features=768, out_features=768, bias=True)\n",
              "              (key): Linear(in_features=768, out_features=768, bias=True)\n",
              "              (value): Linear(in_features=768, out_features=768, bias=True)\n",
              "              (dropout): Dropout(p=0.1, inplace=False)\n",
              "            )\n",
              "            (output): BertSelfOutput(\n",
              "              (dense): Linear(in_features=768, out_features=768, bias=True)\n",
              "              (LayerNorm): LayerNorm((768,), eps=1e-12, elementwise_affine=True)\n",
              "              (dropout): Dropout(p=0.1, inplace=False)\n",
              "            )\n",
              "          )\n",
              "          (intermediate): BertIntermediate(\n",
              "            (dense): Linear(in_features=768, out_features=3072, bias=True)\n",
              "            (intermediate_act_fn): GELUActivation()\n",
              "          )\n",
              "          (output): BertOutput(\n",
              "            (dense): Linear(in_features=3072, out_features=768, bias=True)\n",
              "            (LayerNorm): LayerNorm((768,), eps=1e-12, elementwise_affine=True)\n",
              "            (dropout): Dropout(p=0.1, inplace=False)\n",
              "          )\n",
              "        )\n",
              "      )\n",
              "    )\n",
              "    (pooler): BertPooler(\n",
              "      (dense): Linear(in_features=768, out_features=768, bias=True)\n",
              "      (activation): Tanh()\n",
              "    )\n",
              "  )\n",
              "  (pre_classifier): Linear(in_features=768, out_features=768, bias=True)\n",
              "  (dropout): Dropout(p=0.1, inplace=False)\n",
              "  (visual_projector): Linear(in_features=2048, out_features=768, bias=True)\n",
              "  (object_linear): Linear(in_features=1536, out_features=768, bias=True)\n",
              "  (encoder_layer): TransformerEncoderLayer(\n",
              "    (self_attn): MultiheadAttention(\n",
              "      (out_proj): NonDynamicallyQuantizableLinear(in_features=768, out_features=768, bias=True)\n",
              "    )\n",
              "    (linear1): Linear(in_features=768, out_features=2048, bias=True)\n",
              "    (dropout): Dropout(p=0.1, inplace=False)\n",
              "    (linear2): Linear(in_features=2048, out_features=768, bias=True)\n",
              "    (norm1): LayerNorm((768,), eps=1e-05, elementwise_affine=True)\n",
              "    (norm2): LayerNorm((768,), eps=1e-05, elementwise_affine=True)\n",
              "    (dropout1): Dropout(p=0.1, inplace=False)\n",
              "    (dropout2): Dropout(p=0.1, inplace=False)\n",
              "  )\n",
              "  (transformer_encoder): TransformerEncoder(\n",
              "    (layers): ModuleList(\n",
              "      (0-1): 2 x TransformerEncoderLayer(\n",
              "        (self_attn): MultiheadAttention(\n",
              "          (out_proj): NonDynamicallyQuantizableLinear(in_features=768, out_features=768, bias=True)\n",
              "        )\n",
              "        (linear1): Linear(in_features=768, out_features=2048, bias=True)\n",
              "        (dropout): Dropout(p=0.1, inplace=False)\n",
              "        (linear2): Linear(in_features=2048, out_features=768, bias=True)\n",
              "        (norm1): LayerNorm((768,), eps=1e-05, elementwise_affine=True)\n",
              "        (norm2): LayerNorm((768,), eps=1e-05, elementwise_affine=True)\n",
              "        (dropout1): Dropout(p=0.1, inplace=False)\n",
              "        (dropout2): Dropout(p=0.1, inplace=False)\n",
              "      )\n",
              "    )\n",
              "  )\n",
              "  (decoder_layer): TransformerDecoderLayer(\n",
              "    (self_attn): MultiheadAttention(\n",
              "      (out_proj): NonDynamicallyQuantizableLinear(in_features=768, out_features=768, bias=True)\n",
              "    )\n",
              "    (multihead_attn): MultiheadAttention(\n",
              "      (out_proj): NonDynamicallyQuantizableLinear(in_features=768, out_features=768, bias=True)\n",
              "    )\n",
              "    (linear1): Linear(in_features=768, out_features=2048, bias=True)\n",
              "    (dropout): Dropout(p=0.1, inplace=False)\n",
              "    (linear2): Linear(in_features=2048, out_features=768, bias=True)\n",
              "    (norm1): LayerNorm((768,), eps=1e-05, elementwise_affine=True)\n",
              "    (norm2): LayerNorm((768,), eps=1e-05, elementwise_affine=True)\n",
              "    (norm3): LayerNorm((768,), eps=1e-05, elementwise_affine=True)\n",
              "    (dropout1): Dropout(p=0.1, inplace=False)\n",
              "    (dropout2): Dropout(p=0.1, inplace=False)\n",
              "    (dropout3): Dropout(p=0.1, inplace=False)\n",
              "  )\n",
              "  (transformer_decoder): TransformerDecoder(\n",
              "    (layers): ModuleList(\n",
              "      (0-1): 2 x TransformerDecoderLayer(\n",
              "        (self_attn): MultiheadAttention(\n",
              "          (out_proj): NonDynamicallyQuantizableLinear(in_features=768, out_features=768, bias=True)\n",
              "        )\n",
              "        (multihead_attn): MultiheadAttention(\n",
              "          (out_proj): NonDynamicallyQuantizableLinear(in_features=768, out_features=768, bias=True)\n",
              "        )\n",
              "        (linear1): Linear(in_features=768, out_features=2048, bias=True)\n",
              "        (dropout): Dropout(p=0.1, inplace=False)\n",
              "        (linear2): Linear(in_features=2048, out_features=768, bias=True)\n",
              "        (norm1): LayerNorm((768,), eps=1e-05, elementwise_affine=True)\n",
              "        (norm2): LayerNorm((768,), eps=1e-05, elementwise_affine=True)\n",
              "        (norm3): LayerNorm((768,), eps=1e-05, elementwise_affine=True)\n",
              "        (dropout1): Dropout(p=0.1, inplace=False)\n",
              "        (dropout2): Dropout(p=0.1, inplace=False)\n",
              "        (dropout3): Dropout(p=0.1, inplace=False)\n",
              "      )\n",
              "    )\n",
              "  )\n",
              "  (classifier): Linear(in_features=768, out_features=1, bias=True)\n",
              ")"
            ]
          },
          "metadata": {},
          "execution_count": 14
        }
      ],
      "source": [
        "model = qa_models()\n",
        "model.to(device)"
      ]
    },
    {
      "cell_type": "markdown",
      "metadata": {
        "id": "_XBJjGKdS2b8"
      },
      "source": [
        "## Training"
      ]
    },
    {
      "cell_type": "code",
      "execution_count": null,
      "metadata": {
        "id": "XYZ7YuJ5InOS"
      },
      "outputs": [],
      "source": [
        "# Creating the loss function and optimizer\n",
        "loss_function = torch.nn.BCEWithLogitsLoss()\n",
        "optimizer = torch.optim.Adam(params =  model.parameters(), lr=2e-05) # change learning rate"
      ]
    },
    {
      "cell_type": "code",
      "source": [
        "def calculate_exact_match_ratio(true_labels, predicted_labels):\n",
        "    exact_match = 0\n",
        "    for i in range(len(true_labels)):\n",
        "      if true_labels[i] == predicted_labels[i]:\n",
        "        exact_match += 1\n",
        "    return exact_match / len(true_labels)"
      ],
      "metadata": {
        "id": "fXS_TuoKRrhH"
      },
      "execution_count": null,
      "outputs": []
    },
    {
      "cell_type": "code",
      "execution_count": null,
      "metadata": {
        "id": "U7AoxVnOXPlH"
      },
      "outputs": [],
      "source": [
        "import warnings\n",
        "warnings.filterwarnings('ignore', category=FutureWarning)\n",
        "from sklearn.metrics import precision_score,f1_score\n",
        "from tqdm import tqdm\n",
        "def train(epoch):\n",
        "  for etime in range(epoch):\n",
        "    tr_loss = 0\n",
        "    predict_list = []\n",
        "    target_list = []\n",
        "    model.train()\n",
        "    for data in tqdm(training_loader, 0):\n",
        "        ids = data['ids'].to(device, dtype = torch.long)\n",
        "        mask = data['mask'].to(device, dtype = torch.long)\n",
        "        token_type_ids = data['token_type_ids'].to(device, dtype = torch.long)\n",
        "        targets = data['targets'].to(device, dtype = torch.float)\n",
        "        bert_cls = data['bert_cls'].to(device, dtype = torch.float)\n",
        "        visual_feats = data['visual_feats'].to(device, dtype = torch.float)\n",
        "\n",
        "        position_emb = data['position_emb'].to(device, dtype = torch.float)\n",
        "\n",
        "        outputs1 = model(ids, mask, token_type_ids, bert_cls, visual_feats, position_emb)\n",
        "        loss = loss_function(outputs1, targets)\n",
        "        preds = torch.sigmoid(outputs1).data > 0.5\n",
        "        preds = preds.to(torch.int)\n",
        "        predict_list.extend(preds.to(\"cpu\").tolist())\n",
        "        target_list.extend(targets.to(\"cpu\").to(torch.int).tolist())\n",
        "        tr_loss += loss.item()\n",
        "\n",
        "        optimizer.zero_grad()\n",
        "        loss.backward()\n",
        "        # # When using GPU\n",
        "        optimizer.step()\n",
        "    epoch_accu = calculate_exact_match_ratio(target_list,predict_list)\n",
        "    print(epoch_accu)\n",
        "  return"
      ]
    },
    {
      "cell_type": "code",
      "source": [
        "train(10)"
      ],
      "metadata": {
        "id": "QA091b0G5nkP",
        "colab": {
          "base_uri": "https://localhost:8080/"
        },
        "outputId": "f4c2ab9b-a96d-417b-8bf7-11f128514f70"
      },
      "execution_count": null,
      "outputs": [
        {
          "output_type": "stream",
          "name": "stderr",
          "text": [
            "\r  0%|          | 0/494 [00:00<?, ?it/s]Truncation was not explicitly activated but `max_length` is provided a specific value, please use `truncation=True` to explicitly truncate examples to max length. Defaulting to 'longest_first' truncation strategy. If you encode pairs of sequences (GLUE-style) with the tokenizer you can select this strategy more precisely by providing a specific strategy to `truncation`.\n",
            "<ipython-input-12-6659e758676f>:78: UserWarning: Creating a tensor from a list of numpy.ndarrays is extremely slow. Please consider converting the list to a single numpy.ndarray with numpy.array() before converting to a tensor. (Triggered internally at ../torch/csrc/utils/tensor_new.cpp:261.)\n",
            "  'bert_cls': torch.tensor(bert_cls, dtype=torch.float),\n",
            "100%|██████████| 494/494 [06:17<00:00,  1.31it/s]\n"
          ]
        },
        {
          "output_type": "stream",
          "name": "stdout",
          "text": [
            "0.005315110098709187\n"
          ]
        },
        {
          "output_type": "stream",
          "name": "stderr",
          "text": [
            "100%|██████████| 494/494 [06:18<00:00,  1.31it/s]\n"
          ]
        },
        {
          "output_type": "stream",
          "name": "stdout",
          "text": [
            "0.09516578081498354\n"
          ]
        },
        {
          "output_type": "stream",
          "name": "stderr",
          "text": [
            "100%|██████████| 494/494 [06:15<00:00,  1.31it/s]\n"
          ]
        },
        {
          "output_type": "stream",
          "name": "stdout",
          "text": [
            "0.24727916983042267\n"
          ]
        },
        {
          "output_type": "stream",
          "name": "stderr",
          "text": [
            "100%|██████████| 494/494 [06:16<00:00,  1.31it/s]\n"
          ]
        },
        {
          "output_type": "stream",
          "name": "stdout",
          "text": [
            "0.26474310301189574\n"
          ]
        },
        {
          "output_type": "stream",
          "name": "stderr",
          "text": [
            "100%|██████████| 494/494 [06:16<00:00,  1.31it/s]\n"
          ]
        },
        {
          "output_type": "stream",
          "name": "stdout",
          "text": [
            "0.28170083523158695\n"
          ]
        },
        {
          "output_type": "stream",
          "name": "stderr",
          "text": [
            "100%|██████████| 494/494 [06:16<00:00,  1.31it/s]\n"
          ]
        },
        {
          "output_type": "stream",
          "name": "stdout",
          "text": [
            "0.2905593520627689\n"
          ]
        },
        {
          "output_type": "stream",
          "name": "stderr",
          "text": [
            "100%|██████████| 494/494 [06:16<00:00,  1.31it/s]\n"
          ]
        },
        {
          "output_type": "stream",
          "name": "stdout",
          "text": [
            "0.30372057706909644\n"
          ]
        },
        {
          "output_type": "stream",
          "name": "stderr",
          "text": [
            "100%|██████████| 494/494 [06:15<00:00,  1.32it/s]\n"
          ]
        },
        {
          "output_type": "stream",
          "name": "stdout",
          "text": [
            "0.3186535054416603\n"
          ]
        },
        {
          "output_type": "stream",
          "name": "stderr",
          "text": [
            "100%|██████████| 494/494 [06:15<00:00,  1.32it/s]\n"
          ]
        },
        {
          "output_type": "stream",
          "name": "stdout",
          "text": [
            "0.32067830928878766\n"
          ]
        },
        {
          "output_type": "stream",
          "name": "stderr",
          "text": [
            "100%|██████████| 494/494 [06:12<00:00,  1.33it/s]"
          ]
        },
        {
          "output_type": "stream",
          "name": "stdout",
          "text": [
            "0.3457352568969881\n"
          ]
        },
        {
          "output_type": "stream",
          "name": "stderr",
          "text": [
            "\n"
          ]
        }
      ]
    },
    {
      "cell_type": "code",
      "source": [
        "from google.colab import drive\n",
        "drive.mount('/content/drive')"
      ],
      "metadata": {
        "colab": {
          "base_uri": "https://localhost:8080/"
        },
        "id": "IMECSo-oGiq4",
        "outputId": "989f9519-7e64-43be-91a6-94c8d3cbabcd"
      },
      "execution_count": null,
      "outputs": [
        {
          "output_type": "stream",
          "name": "stdout",
          "text": [
            "Mounted at /content/drive\n"
          ]
        }
      ]
    },
    {
      "cell_type": "code",
      "source": [
        "torch.save(model.state_dict(), '/content/drive/MyDrive/textual_visual_epoch10.pth')\n"
      ],
      "metadata": {
        "id": "lAQKGukcz9od"
      },
      "execution_count": null,
      "outputs": []
    },
    {
      "cell_type": "markdown",
      "metadata": {
        "id": "E_8lSc-jf7bU"
      },
      "source": [
        "## Testing"
      ]
    },
    {
      "cell_type": "markdown",
      "source": [
        "Here we add another key \"bert_cls\" to store the extracted textual representation into train_doc_info."
      ],
      "metadata": {
        "id": "zJH58juAST2G"
      }
    },
    {
      "cell_type": "code",
      "source": [
        "with open('test_visual_feats.pkl','rb') as f:\n",
        "  test_doc_info = pickle.load(f)\n",
        "\n",
        "with open('test_bert_cls.pkl','rb') as f:\n",
        "  test_bert_cls = pickle.load(f)"
      ],
      "metadata": {
        "id": "w37u2AUjknuz"
      },
      "execution_count": null,
      "outputs": []
    },
    {
      "cell_type": "code",
      "source": [
        "bid = 0\n",
        "bert_cls_list = test_bert_cls['bert_cls'].tolist()\n",
        "for doc in test_doc_info:\n",
        "  for page in test_doc_info[doc]['pages']:\n",
        "    page_info = test_doc_info[doc]['pages'][page]\n",
        "    for i,obj in enumerate(page_info['objects']):\n",
        "      objt = page_info['objects'][obj]\n",
        "      objt['bert_cls'] = bert_cls_list[bid]\n",
        "      objt['visual_feats'] = page_info['visual_list'][i]\n",
        "      bid+=1"
      ],
      "metadata": {
        "id": "WxXMFbOSknuz"
      },
      "execution_count": null,
      "outputs": []
    },
    {
      "cell_type": "code",
      "source": [
        "import ast\n",
        "test_df = pd.read_csv('test_dataframe.csv')\n",
        "test_df = test_df[['question','pmcid']]"
      ],
      "metadata": {
        "id": "eD0MtbK9knu0"
      },
      "execution_count": null,
      "outputs": []
    },
    {
      "cell_type": "code",
      "execution_count": null,
      "metadata": {
        "id": "_qD3e22vE7My"
      },
      "outputs": [],
      "source": [
        "tokenizer = AutoTokenizer.from_pretrained(\"bert-base-uncased\", truncation=True, do_lower_case=True)\n",
        "def convert_index2onehot(ids, max_len):\n",
        "  one_hot = [0]*max_len\n",
        "  for id in ids:\n",
        "    one_hot[int(id)] = 1\n",
        "  return one_hot\n",
        "class pdfvqa_inference(Dataset):\n",
        "    def __init__(self, dataframe, doc_info, tokenizer, max_len, position_emb):\n",
        "        self.tokenizer = tokenizer\n",
        "        self.data = dataframe\n",
        "        self.text = dataframe.question\n",
        "        self.doc_info = doc_info\n",
        "        self.padding_len = max_len\n",
        "        self.doc_id = dataframe.pmcid\n",
        "        self.position_emb = position_emb\n",
        "\n",
        "    def __len__(self):\n",
        "        return len(self.text)\n",
        "\n",
        "    def __getitem__(self, index):\n",
        "        text = self.text[index]\n",
        "        inputs = self.tokenizer.encode_plus(\n",
        "            text,\n",
        "            None,\n",
        "            add_special_tokens=True,\n",
        "            max_length=100,\n",
        "            pad_to_max_length=True,\n",
        "            return_token_type_ids=True\n",
        "        )\n",
        "        ids = inputs['input_ids']\n",
        "        mask = inputs['attention_mask']\n",
        "        token_type_ids = inputs[\"token_type_ids\"]\n",
        "        bert_cls = []\n",
        "        visual_feats = []\n",
        "        doc_id = str(self.doc_id[index])\n",
        "        global_id_list = []\n",
        "\n",
        "        for p in self.doc_info[doc_id]['pages']:\n",
        "          page = self.doc_info[doc_id]['pages'][p]\n",
        "          for obj in page['objects']:\n",
        "            objt = page['objects'][obj]\n",
        "            bert_cls.append(objt['bert_cls'])\n",
        "            visual_feats.append(objt['visual_feats'])\n",
        "            global_id_list.append(objt['global_id'])\n",
        "\n",
        "        if len(bert_cls) >= self.padding_len:\n",
        "          bert_cls = bert_cls[:self.padding_len]\n",
        "          visual_feats = visual_feats[:self.padding_len]\n",
        "          global_id_list = global_id_list[:self.padding_len]\n",
        "\n",
        "        else:\n",
        "          bert_cls.extend([[0.0]*768]*(self.padding_len-len(bert_cls)))\n",
        "          visual_feats.extend([[0.0]*2048]*(self.padding_len-len(visual_feats)))\n",
        "          global_id_list.extend([-2]*(self.padding_len-len(global_id_list)))\n",
        "        global_id_list[-1] = -1\n",
        "\n",
        "\n",
        "\n",
        "        return {\n",
        "            'ids': torch.tensor(ids, dtype=torch.long),\n",
        "            'mask': torch.tensor(mask, dtype=torch.long),\n",
        "            'token_type_ids': torch.tensor(token_type_ids, dtype=torch.long),\n",
        "            'bert_cls': torch.tensor(bert_cls, dtype=torch.float),\n",
        "            'visual_feats': torch.tensor(visual_feats, dtype=torch.float),\n",
        "            'position_emb': torch.tensor(self.position_emb, dtype=torch.float),\n",
        "            'gloabl_id': torch.tensor(global_id_list, dtype=torch.long),\n",
        "        }\n",
        "test_set = pdfvqa_inference(test_df, test_doc_info, tokenizer, 400, positional_encoding)\n",
        "test_params = {'batch_size': 8,\n",
        "                'shuffle': False,\n",
        "                'num_workers': 0\n",
        "                }\n",
        "testing_loader = DataLoader(test_set, **test_params)"
      ]
    },
    {
      "cell_type": "code",
      "source": [
        "def extracting(pre_ids, global_ids):\n",
        "  outputs = []\n",
        "  for j, pids in enumerate(pre_ids):\n",
        "    output = []\n",
        "    gids = global_ids[j]\n",
        "    for i,pid in enumerate(pids):\n",
        "      if pid == 1:\n",
        "        output.append(gids[i])\n",
        "    outputs.append(output)\n",
        "  return outputs"
      ],
      "metadata": {
        "id": "KNYLsOmYoCA0"
      },
      "execution_count": null,
      "outputs": []
    },
    {
      "cell_type": "code",
      "source": [
        "# Defining the training function on the 80% of the dataset for tuning the distilbert model\n",
        "import warnings\n",
        "warnings.filterwarnings('ignore', category=FutureWarning)\n",
        "\n",
        "from tqdm import tqdm\n",
        "def inference():\n",
        "    tr_loss = 0\n",
        "    predict_list = []\n",
        "    global_id_list = []\n",
        "    model.eval()\n",
        "    for data in tqdm(testing_loader, 0):\n",
        "        ids = data['ids'].to(device, dtype = torch.long)\n",
        "        mask = data['mask'].to(device, dtype = torch.long)\n",
        "        token_type_ids = data['token_type_ids'].to(device, dtype = torch.long)\n",
        "        gloabl_ids = data['gloabl_id'].to(device, dtype = torch.long)\n",
        "        bert_cls = data['bert_cls'].to(device, dtype = torch.float)\n",
        "        visual_feats = data['visual_feats'].to(device, dtype = torch.float)\n",
        "        position_emb = data['position_emb'].to(device, dtype = torch.float)\n",
        "\n",
        "        outputs1 = model(ids, mask, token_type_ids, bert_cls, visual_feats, position_emb)\n",
        "        preds = torch.sigmoid(outputs1).data > 0.5\n",
        "        preds = preds.to(torch.int)\n",
        "        predict_list.extend(preds.to(\"cpu\").tolist())\n",
        "        global_id_list.extend(gloabl_ids.to(\"cpu\").tolist())\n",
        "    return predict_list, global_id_list"
      ],
      "metadata": {
        "id": "h3wCR-yqmLoB"
      },
      "execution_count": null,
      "outputs": []
    },
    {
      "cell_type": "code",
      "source": [
        "predict_list, global_id_list = inference()"
      ],
      "metadata": {
        "colab": {
          "base_uri": "https://localhost:8080/"
        },
        "id": "tZmIkNs2qoH_",
        "outputId": "754cfc0e-2722-4759-aecb-edb356756cc0"
      },
      "execution_count": null,
      "outputs": [
        {
          "output_type": "stream",
          "name": "stderr",
          "text": [
            "  0%|          | 0/141 [00:00<?, ?it/s]Truncation was not explicitly activated but `max_length` is provided a specific value, please use `truncation=True` to explicitly truncate examples to max length. Defaulting to 'longest_first' truncation strategy. If you encode pairs of sequences (GLUE-style) with the tokenizer you can select this strategy more precisely by providing a specific strategy to `truncation`.\n",
            "100%|██████████| 141/141 [01:40<00:00,  1.41it/s]\n"
          ]
        }
      ]
    },
    {
      "cell_type": "code",
      "source": [
        "torch.save(model.state_dict(), '/content/drive/MyDrive/textual_visual_epoch5.pth')\n"
      ],
      "metadata": {
        "id": "J6l8iVDZTnHF"
      },
      "execution_count": null,
      "outputs": []
    },
    {
      "cell_type": "code",
      "source": [
        "output = extracting(predict_list, global_id_list)"
      ],
      "metadata": {
        "id": "KWPsyyeRrdmP"
      },
      "execution_count": null,
      "outputs": []
    },
    {
      "cell_type": "code",
      "source": [
        "id_list = range(0, len(output))\n",
        "df = pd.DataFrame(id_list, columns=['id'])\n",
        "df['answer'] = output\n",
        "\n",
        "df.to_csv('submission.csv', index=False)\n"
      ],
      "metadata": {
        "id": "ceHaBowBtAGL"
      },
      "execution_count": null,
      "outputs": []
    }
  ],
  "metadata": {
    "colab": {
      "collapsed_sections": [
        "eQpJTV7RSVZW",
        "RbiQjAgdSqhn",
        "jF12YgfxSwEr",
        "_XBJjGKdS2b8",
        "E_8lSc-jf7bU"
      ],
      "machine_shape": "hm",
      "provenance": [],
      "gpuType": "T4",
      "toc_visible": true
    },
    "kernelspec": {
      "display_name": "Python 3",
      "name": "python3"
    },
    "language_info": {
      "codemirror_mode": {
        "name": "ipython",
        "version": 3
      },
      "file_extension": ".py",
      "mimetype": "text/x-python",
      "name": "python",
      "nbconvert_exporter": "python",
      "pygments_lexer": "ipython3",
      "version": "3.6.6"
    },
    "accelerator": "GPU",
    "widgets": {
      "application/vnd.jupyter.widget-state+json": {
        "1ea2203aa99b4c07a95dbb59f3d22d0e": {
          "model_module": "@jupyter-widgets/controls",
          "model_name": "HBoxModel",
          "model_module_version": "1.5.0",
          "state": {
            "_dom_classes": [],
            "_model_module": "@jupyter-widgets/controls",
            "_model_module_version": "1.5.0",
            "_model_name": "HBoxModel",
            "_view_count": null,
            "_view_module": "@jupyter-widgets/controls",
            "_view_module_version": "1.5.0",
            "_view_name": "HBoxView",
            "box_style": "",
            "children": [
              "IPY_MODEL_4add3c9fb2f54962ab9440c59b276335",
              "IPY_MODEL_6691cbdc270842af95c4f628617672a7",
              "IPY_MODEL_cfde15ba03b14297a8b4a489c610dd68"
            ],
            "layout": "IPY_MODEL_cb2c713319544bd1bc727b2d9d2999d0"
          }
        },
        "4add3c9fb2f54962ab9440c59b276335": {
          "model_module": "@jupyter-widgets/controls",
          "model_name": "HTMLModel",
          "model_module_version": "1.5.0",
          "state": {
            "_dom_classes": [],
            "_model_module": "@jupyter-widgets/controls",
            "_model_module_version": "1.5.0",
            "_model_name": "HTMLModel",
            "_view_count": null,
            "_view_module": "@jupyter-widgets/controls",
            "_view_module_version": "1.5.0",
            "_view_name": "HTMLView",
            "description": "",
            "description_tooltip": null,
            "layout": "IPY_MODEL_1749be99471e47fba3030860dd5d7e78",
            "placeholder": "​",
            "style": "IPY_MODEL_60c8c471d0f44dfe92bda7c08ac5a8d1",
            "value": "(…)cased/resolve/main/tokenizer_config.json: 100%"
          }
        },
        "6691cbdc270842af95c4f628617672a7": {
          "model_module": "@jupyter-widgets/controls",
          "model_name": "FloatProgressModel",
          "model_module_version": "1.5.0",
          "state": {
            "_dom_classes": [],
            "_model_module": "@jupyter-widgets/controls",
            "_model_module_version": "1.5.0",
            "_model_name": "FloatProgressModel",
            "_view_count": null,
            "_view_module": "@jupyter-widgets/controls",
            "_view_module_version": "1.5.0",
            "_view_name": "ProgressView",
            "bar_style": "success",
            "description": "",
            "description_tooltip": null,
            "layout": "IPY_MODEL_0e2d2cc9c2654f6ea97a69b60c980c62",
            "max": 28,
            "min": 0,
            "orientation": "horizontal",
            "style": "IPY_MODEL_5fba5dcc6a1c407eabe24643912e2e9e",
            "value": 28
          }
        },
        "cfde15ba03b14297a8b4a489c610dd68": {
          "model_module": "@jupyter-widgets/controls",
          "model_name": "HTMLModel",
          "model_module_version": "1.5.0",
          "state": {
            "_dom_classes": [],
            "_model_module": "@jupyter-widgets/controls",
            "_model_module_version": "1.5.0",
            "_model_name": "HTMLModel",
            "_view_count": null,
            "_view_module": "@jupyter-widgets/controls",
            "_view_module_version": "1.5.0",
            "_view_name": "HTMLView",
            "description": "",
            "description_tooltip": null,
            "layout": "IPY_MODEL_293706f8b0d547f5bd35cff8ea8ee051",
            "placeholder": "​",
            "style": "IPY_MODEL_c35ae8579a0348aa823e644d341c2be9",
            "value": " 28.0/28.0 [00:00&lt;00:00, 2.32kB/s]"
          }
        },
        "cb2c713319544bd1bc727b2d9d2999d0": {
          "model_module": "@jupyter-widgets/base",
          "model_name": "LayoutModel",
          "model_module_version": "1.2.0",
          "state": {
            "_model_module": "@jupyter-widgets/base",
            "_model_module_version": "1.2.0",
            "_model_name": "LayoutModel",
            "_view_count": null,
            "_view_module": "@jupyter-widgets/base",
            "_view_module_version": "1.2.0",
            "_view_name": "LayoutView",
            "align_content": null,
            "align_items": null,
            "align_self": null,
            "border": null,
            "bottom": null,
            "display": null,
            "flex": null,
            "flex_flow": null,
            "grid_area": null,
            "grid_auto_columns": null,
            "grid_auto_flow": null,
            "grid_auto_rows": null,
            "grid_column": null,
            "grid_gap": null,
            "grid_row": null,
            "grid_template_areas": null,
            "grid_template_columns": null,
            "grid_template_rows": null,
            "height": null,
            "justify_content": null,
            "justify_items": null,
            "left": null,
            "margin": null,
            "max_height": null,
            "max_width": null,
            "min_height": null,
            "min_width": null,
            "object_fit": null,
            "object_position": null,
            "order": null,
            "overflow": null,
            "overflow_x": null,
            "overflow_y": null,
            "padding": null,
            "right": null,
            "top": null,
            "visibility": null,
            "width": null
          }
        },
        "1749be99471e47fba3030860dd5d7e78": {
          "model_module": "@jupyter-widgets/base",
          "model_name": "LayoutModel",
          "model_module_version": "1.2.0",
          "state": {
            "_model_module": "@jupyter-widgets/base",
            "_model_module_version": "1.2.0",
            "_model_name": "LayoutModel",
            "_view_count": null,
            "_view_module": "@jupyter-widgets/base",
            "_view_module_version": "1.2.0",
            "_view_name": "LayoutView",
            "align_content": null,
            "align_items": null,
            "align_self": null,
            "border": null,
            "bottom": null,
            "display": null,
            "flex": null,
            "flex_flow": null,
            "grid_area": null,
            "grid_auto_columns": null,
            "grid_auto_flow": null,
            "grid_auto_rows": null,
            "grid_column": null,
            "grid_gap": null,
            "grid_row": null,
            "grid_template_areas": null,
            "grid_template_columns": null,
            "grid_template_rows": null,
            "height": null,
            "justify_content": null,
            "justify_items": null,
            "left": null,
            "margin": null,
            "max_height": null,
            "max_width": null,
            "min_height": null,
            "min_width": null,
            "object_fit": null,
            "object_position": null,
            "order": null,
            "overflow": null,
            "overflow_x": null,
            "overflow_y": null,
            "padding": null,
            "right": null,
            "top": null,
            "visibility": null,
            "width": null
          }
        },
        "60c8c471d0f44dfe92bda7c08ac5a8d1": {
          "model_module": "@jupyter-widgets/controls",
          "model_name": "DescriptionStyleModel",
          "model_module_version": "1.5.0",
          "state": {
            "_model_module": "@jupyter-widgets/controls",
            "_model_module_version": "1.5.0",
            "_model_name": "DescriptionStyleModel",
            "_view_count": null,
            "_view_module": "@jupyter-widgets/base",
            "_view_module_version": "1.2.0",
            "_view_name": "StyleView",
            "description_width": ""
          }
        },
        "0e2d2cc9c2654f6ea97a69b60c980c62": {
          "model_module": "@jupyter-widgets/base",
          "model_name": "LayoutModel",
          "model_module_version": "1.2.0",
          "state": {
            "_model_module": "@jupyter-widgets/base",
            "_model_module_version": "1.2.0",
            "_model_name": "LayoutModel",
            "_view_count": null,
            "_view_module": "@jupyter-widgets/base",
            "_view_module_version": "1.2.0",
            "_view_name": "LayoutView",
            "align_content": null,
            "align_items": null,
            "align_self": null,
            "border": null,
            "bottom": null,
            "display": null,
            "flex": null,
            "flex_flow": null,
            "grid_area": null,
            "grid_auto_columns": null,
            "grid_auto_flow": null,
            "grid_auto_rows": null,
            "grid_column": null,
            "grid_gap": null,
            "grid_row": null,
            "grid_template_areas": null,
            "grid_template_columns": null,
            "grid_template_rows": null,
            "height": null,
            "justify_content": null,
            "justify_items": null,
            "left": null,
            "margin": null,
            "max_height": null,
            "max_width": null,
            "min_height": null,
            "min_width": null,
            "object_fit": null,
            "object_position": null,
            "order": null,
            "overflow": null,
            "overflow_x": null,
            "overflow_y": null,
            "padding": null,
            "right": null,
            "top": null,
            "visibility": null,
            "width": null
          }
        },
        "5fba5dcc6a1c407eabe24643912e2e9e": {
          "model_module": "@jupyter-widgets/controls",
          "model_name": "ProgressStyleModel",
          "model_module_version": "1.5.0",
          "state": {
            "_model_module": "@jupyter-widgets/controls",
            "_model_module_version": "1.5.0",
            "_model_name": "ProgressStyleModel",
            "_view_count": null,
            "_view_module": "@jupyter-widgets/base",
            "_view_module_version": "1.2.0",
            "_view_name": "StyleView",
            "bar_color": null,
            "description_width": ""
          }
        },
        "293706f8b0d547f5bd35cff8ea8ee051": {
          "model_module": "@jupyter-widgets/base",
          "model_name": "LayoutModel",
          "model_module_version": "1.2.0",
          "state": {
            "_model_module": "@jupyter-widgets/base",
            "_model_module_version": "1.2.0",
            "_model_name": "LayoutModel",
            "_view_count": null,
            "_view_module": "@jupyter-widgets/base",
            "_view_module_version": "1.2.0",
            "_view_name": "LayoutView",
            "align_content": null,
            "align_items": null,
            "align_self": null,
            "border": null,
            "bottom": null,
            "display": null,
            "flex": null,
            "flex_flow": null,
            "grid_area": null,
            "grid_auto_columns": null,
            "grid_auto_flow": null,
            "grid_auto_rows": null,
            "grid_column": null,
            "grid_gap": null,
            "grid_row": null,
            "grid_template_areas": null,
            "grid_template_columns": null,
            "grid_template_rows": null,
            "height": null,
            "justify_content": null,
            "justify_items": null,
            "left": null,
            "margin": null,
            "max_height": null,
            "max_width": null,
            "min_height": null,
            "min_width": null,
            "object_fit": null,
            "object_position": null,
            "order": null,
            "overflow": null,
            "overflow_x": null,
            "overflow_y": null,
            "padding": null,
            "right": null,
            "top": null,
            "visibility": null,
            "width": null
          }
        },
        "c35ae8579a0348aa823e644d341c2be9": {
          "model_module": "@jupyter-widgets/controls",
          "model_name": "DescriptionStyleModel",
          "model_module_version": "1.5.0",
          "state": {
            "_model_module": "@jupyter-widgets/controls",
            "_model_module_version": "1.5.0",
            "_model_name": "DescriptionStyleModel",
            "_view_count": null,
            "_view_module": "@jupyter-widgets/base",
            "_view_module_version": "1.2.0",
            "_view_name": "StyleView",
            "description_width": ""
          }
        },
        "b4950d83bc314a439affc4f12b04f9b9": {
          "model_module": "@jupyter-widgets/controls",
          "model_name": "HBoxModel",
          "model_module_version": "1.5.0",
          "state": {
            "_dom_classes": [],
            "_model_module": "@jupyter-widgets/controls",
            "_model_module_version": "1.5.0",
            "_model_name": "HBoxModel",
            "_view_count": null,
            "_view_module": "@jupyter-widgets/controls",
            "_view_module_version": "1.5.0",
            "_view_name": "HBoxView",
            "box_style": "",
            "children": [
              "IPY_MODEL_2371d117da8d4fcdba49c1d7db778fa2",
              "IPY_MODEL_6538a89c0d1f40c1bb5f7723c6ce3b91",
              "IPY_MODEL_9d602f60e0184b26b23d0fc0e0f47f94"
            ],
            "layout": "IPY_MODEL_7e10288c40834dbdb55b6f3d26d81880"
          }
        },
        "2371d117da8d4fcdba49c1d7db778fa2": {
          "model_module": "@jupyter-widgets/controls",
          "model_name": "HTMLModel",
          "model_module_version": "1.5.0",
          "state": {
            "_dom_classes": [],
            "_model_module": "@jupyter-widgets/controls",
            "_model_module_version": "1.5.0",
            "_model_name": "HTMLModel",
            "_view_count": null,
            "_view_module": "@jupyter-widgets/controls",
            "_view_module_version": "1.5.0",
            "_view_name": "HTMLView",
            "description": "",
            "description_tooltip": null,
            "layout": "IPY_MODEL_7442f85204a24110b68f48f7fc0e599c",
            "placeholder": "​",
            "style": "IPY_MODEL_8156ae8ff29843db89eba90fcb12aa2c",
            "value": "(…)rt-base-uncased/resolve/main/config.json: 100%"
          }
        },
        "6538a89c0d1f40c1bb5f7723c6ce3b91": {
          "model_module": "@jupyter-widgets/controls",
          "model_name": "FloatProgressModel",
          "model_module_version": "1.5.0",
          "state": {
            "_dom_classes": [],
            "_model_module": "@jupyter-widgets/controls",
            "_model_module_version": "1.5.0",
            "_model_name": "FloatProgressModel",
            "_view_count": null,
            "_view_module": "@jupyter-widgets/controls",
            "_view_module_version": "1.5.0",
            "_view_name": "ProgressView",
            "bar_style": "success",
            "description": "",
            "description_tooltip": null,
            "layout": "IPY_MODEL_144c332d60594a71a6d774ed37755561",
            "max": 570,
            "min": 0,
            "orientation": "horizontal",
            "style": "IPY_MODEL_bfafb1f78a2844b4b06241bd427bcf07",
            "value": 570
          }
        },
        "9d602f60e0184b26b23d0fc0e0f47f94": {
          "model_module": "@jupyter-widgets/controls",
          "model_name": "HTMLModel",
          "model_module_version": "1.5.0",
          "state": {
            "_dom_classes": [],
            "_model_module": "@jupyter-widgets/controls",
            "_model_module_version": "1.5.0",
            "_model_name": "HTMLModel",
            "_view_count": null,
            "_view_module": "@jupyter-widgets/controls",
            "_view_module_version": "1.5.0",
            "_view_name": "HTMLView",
            "description": "",
            "description_tooltip": null,
            "layout": "IPY_MODEL_798e0990d4a44d4db2ef42d1a204556a",
            "placeholder": "​",
            "style": "IPY_MODEL_1571610295c74cf3be799345bb0a862b",
            "value": " 570/570 [00:00&lt;00:00, 46.3kB/s]"
          }
        },
        "7e10288c40834dbdb55b6f3d26d81880": {
          "model_module": "@jupyter-widgets/base",
          "model_name": "LayoutModel",
          "model_module_version": "1.2.0",
          "state": {
            "_model_module": "@jupyter-widgets/base",
            "_model_module_version": "1.2.0",
            "_model_name": "LayoutModel",
            "_view_count": null,
            "_view_module": "@jupyter-widgets/base",
            "_view_module_version": "1.2.0",
            "_view_name": "LayoutView",
            "align_content": null,
            "align_items": null,
            "align_self": null,
            "border": null,
            "bottom": null,
            "display": null,
            "flex": null,
            "flex_flow": null,
            "grid_area": null,
            "grid_auto_columns": null,
            "grid_auto_flow": null,
            "grid_auto_rows": null,
            "grid_column": null,
            "grid_gap": null,
            "grid_row": null,
            "grid_template_areas": null,
            "grid_template_columns": null,
            "grid_template_rows": null,
            "height": null,
            "justify_content": null,
            "justify_items": null,
            "left": null,
            "margin": null,
            "max_height": null,
            "max_width": null,
            "min_height": null,
            "min_width": null,
            "object_fit": null,
            "object_position": null,
            "order": null,
            "overflow": null,
            "overflow_x": null,
            "overflow_y": null,
            "padding": null,
            "right": null,
            "top": null,
            "visibility": null,
            "width": null
          }
        },
        "7442f85204a24110b68f48f7fc0e599c": {
          "model_module": "@jupyter-widgets/base",
          "model_name": "LayoutModel",
          "model_module_version": "1.2.0",
          "state": {
            "_model_module": "@jupyter-widgets/base",
            "_model_module_version": "1.2.0",
            "_model_name": "LayoutModel",
            "_view_count": null,
            "_view_module": "@jupyter-widgets/base",
            "_view_module_version": "1.2.0",
            "_view_name": "LayoutView",
            "align_content": null,
            "align_items": null,
            "align_self": null,
            "border": null,
            "bottom": null,
            "display": null,
            "flex": null,
            "flex_flow": null,
            "grid_area": null,
            "grid_auto_columns": null,
            "grid_auto_flow": null,
            "grid_auto_rows": null,
            "grid_column": null,
            "grid_gap": null,
            "grid_row": null,
            "grid_template_areas": null,
            "grid_template_columns": null,
            "grid_template_rows": null,
            "height": null,
            "justify_content": null,
            "justify_items": null,
            "left": null,
            "margin": null,
            "max_height": null,
            "max_width": null,
            "min_height": null,
            "min_width": null,
            "object_fit": null,
            "object_position": null,
            "order": null,
            "overflow": null,
            "overflow_x": null,
            "overflow_y": null,
            "padding": null,
            "right": null,
            "top": null,
            "visibility": null,
            "width": null
          }
        },
        "8156ae8ff29843db89eba90fcb12aa2c": {
          "model_module": "@jupyter-widgets/controls",
          "model_name": "DescriptionStyleModel",
          "model_module_version": "1.5.0",
          "state": {
            "_model_module": "@jupyter-widgets/controls",
            "_model_module_version": "1.5.0",
            "_model_name": "DescriptionStyleModel",
            "_view_count": null,
            "_view_module": "@jupyter-widgets/base",
            "_view_module_version": "1.2.0",
            "_view_name": "StyleView",
            "description_width": ""
          }
        },
        "144c332d60594a71a6d774ed37755561": {
          "model_module": "@jupyter-widgets/base",
          "model_name": "LayoutModel",
          "model_module_version": "1.2.0",
          "state": {
            "_model_module": "@jupyter-widgets/base",
            "_model_module_version": "1.2.0",
            "_model_name": "LayoutModel",
            "_view_count": null,
            "_view_module": "@jupyter-widgets/base",
            "_view_module_version": "1.2.0",
            "_view_name": "LayoutView",
            "align_content": null,
            "align_items": null,
            "align_self": null,
            "border": null,
            "bottom": null,
            "display": null,
            "flex": null,
            "flex_flow": null,
            "grid_area": null,
            "grid_auto_columns": null,
            "grid_auto_flow": null,
            "grid_auto_rows": null,
            "grid_column": null,
            "grid_gap": null,
            "grid_row": null,
            "grid_template_areas": null,
            "grid_template_columns": null,
            "grid_template_rows": null,
            "height": null,
            "justify_content": null,
            "justify_items": null,
            "left": null,
            "margin": null,
            "max_height": null,
            "max_width": null,
            "min_height": null,
            "min_width": null,
            "object_fit": null,
            "object_position": null,
            "order": null,
            "overflow": null,
            "overflow_x": null,
            "overflow_y": null,
            "padding": null,
            "right": null,
            "top": null,
            "visibility": null,
            "width": null
          }
        },
        "bfafb1f78a2844b4b06241bd427bcf07": {
          "model_module": "@jupyter-widgets/controls",
          "model_name": "ProgressStyleModel",
          "model_module_version": "1.5.0",
          "state": {
            "_model_module": "@jupyter-widgets/controls",
            "_model_module_version": "1.5.0",
            "_model_name": "ProgressStyleModel",
            "_view_count": null,
            "_view_module": "@jupyter-widgets/base",
            "_view_module_version": "1.2.0",
            "_view_name": "StyleView",
            "bar_color": null,
            "description_width": ""
          }
        },
        "798e0990d4a44d4db2ef42d1a204556a": {
          "model_module": "@jupyter-widgets/base",
          "model_name": "LayoutModel",
          "model_module_version": "1.2.0",
          "state": {
            "_model_module": "@jupyter-widgets/base",
            "_model_module_version": "1.2.0",
            "_model_name": "LayoutModel",
            "_view_count": null,
            "_view_module": "@jupyter-widgets/base",
            "_view_module_version": "1.2.0",
            "_view_name": "LayoutView",
            "align_content": null,
            "align_items": null,
            "align_self": null,
            "border": null,
            "bottom": null,
            "display": null,
            "flex": null,
            "flex_flow": null,
            "grid_area": null,
            "grid_auto_columns": null,
            "grid_auto_flow": null,
            "grid_auto_rows": null,
            "grid_column": null,
            "grid_gap": null,
            "grid_row": null,
            "grid_template_areas": null,
            "grid_template_columns": null,
            "grid_template_rows": null,
            "height": null,
            "justify_content": null,
            "justify_items": null,
            "left": null,
            "margin": null,
            "max_height": null,
            "max_width": null,
            "min_height": null,
            "min_width": null,
            "object_fit": null,
            "object_position": null,
            "order": null,
            "overflow": null,
            "overflow_x": null,
            "overflow_y": null,
            "padding": null,
            "right": null,
            "top": null,
            "visibility": null,
            "width": null
          }
        },
        "1571610295c74cf3be799345bb0a862b": {
          "model_module": "@jupyter-widgets/controls",
          "model_name": "DescriptionStyleModel",
          "model_module_version": "1.5.0",
          "state": {
            "_model_module": "@jupyter-widgets/controls",
            "_model_module_version": "1.5.0",
            "_model_name": "DescriptionStyleModel",
            "_view_count": null,
            "_view_module": "@jupyter-widgets/base",
            "_view_module_version": "1.2.0",
            "_view_name": "StyleView",
            "description_width": ""
          }
        },
        "d86aa2997de740f1ba233e2c8fc76550": {
          "model_module": "@jupyter-widgets/controls",
          "model_name": "HBoxModel",
          "model_module_version": "1.5.0",
          "state": {
            "_dom_classes": [],
            "_model_module": "@jupyter-widgets/controls",
            "_model_module_version": "1.5.0",
            "_model_name": "HBoxModel",
            "_view_count": null,
            "_view_module": "@jupyter-widgets/controls",
            "_view_module_version": "1.5.0",
            "_view_name": "HBoxView",
            "box_style": "",
            "children": [
              "IPY_MODEL_8409ed7992b74b55b7d6ef407f0fdb73",
              "IPY_MODEL_93c50bebec6c4ce19d8a6b29a74cb261",
              "IPY_MODEL_5885b62d3cbe4d028e81d65c38968bc8"
            ],
            "layout": "IPY_MODEL_20aad37f81ff4006bc0761797e22a22c"
          }
        },
        "8409ed7992b74b55b7d6ef407f0fdb73": {
          "model_module": "@jupyter-widgets/controls",
          "model_name": "HTMLModel",
          "model_module_version": "1.5.0",
          "state": {
            "_dom_classes": [],
            "_model_module": "@jupyter-widgets/controls",
            "_model_module_version": "1.5.0",
            "_model_name": "HTMLModel",
            "_view_count": null,
            "_view_module": "@jupyter-widgets/controls",
            "_view_module_version": "1.5.0",
            "_view_name": "HTMLView",
            "description": "",
            "description_tooltip": null,
            "layout": "IPY_MODEL_a71ce52a6a47496594c352fb610153a9",
            "placeholder": "​",
            "style": "IPY_MODEL_33031a3130244ccca302b414e8109f94",
            "value": "(…)bert-base-uncased/resolve/main/vocab.txt: 100%"
          }
        },
        "93c50bebec6c4ce19d8a6b29a74cb261": {
          "model_module": "@jupyter-widgets/controls",
          "model_name": "FloatProgressModel",
          "model_module_version": "1.5.0",
          "state": {
            "_dom_classes": [],
            "_model_module": "@jupyter-widgets/controls",
            "_model_module_version": "1.5.0",
            "_model_name": "FloatProgressModel",
            "_view_count": null,
            "_view_module": "@jupyter-widgets/controls",
            "_view_module_version": "1.5.0",
            "_view_name": "ProgressView",
            "bar_style": "success",
            "description": "",
            "description_tooltip": null,
            "layout": "IPY_MODEL_19f99539625648629a47ba87adb1f345",
            "max": 231508,
            "min": 0,
            "orientation": "horizontal",
            "style": "IPY_MODEL_62d033facd544a329fc23a3946c4fdf4",
            "value": 231508
          }
        },
        "5885b62d3cbe4d028e81d65c38968bc8": {
          "model_module": "@jupyter-widgets/controls",
          "model_name": "HTMLModel",
          "model_module_version": "1.5.0",
          "state": {
            "_dom_classes": [],
            "_model_module": "@jupyter-widgets/controls",
            "_model_module_version": "1.5.0",
            "_model_name": "HTMLModel",
            "_view_count": null,
            "_view_module": "@jupyter-widgets/controls",
            "_view_module_version": "1.5.0",
            "_view_name": "HTMLView",
            "description": "",
            "description_tooltip": null,
            "layout": "IPY_MODEL_a280c8760cc14024ac4531651e70ae8a",
            "placeholder": "​",
            "style": "IPY_MODEL_79d5ce365a3745c6bf71b342751aa974",
            "value": " 232k/232k [00:00&lt;00:00, 10.3MB/s]"
          }
        },
        "20aad37f81ff4006bc0761797e22a22c": {
          "model_module": "@jupyter-widgets/base",
          "model_name": "LayoutModel",
          "model_module_version": "1.2.0",
          "state": {
            "_model_module": "@jupyter-widgets/base",
            "_model_module_version": "1.2.0",
            "_model_name": "LayoutModel",
            "_view_count": null,
            "_view_module": "@jupyter-widgets/base",
            "_view_module_version": "1.2.0",
            "_view_name": "LayoutView",
            "align_content": null,
            "align_items": null,
            "align_self": null,
            "border": null,
            "bottom": null,
            "display": null,
            "flex": null,
            "flex_flow": null,
            "grid_area": null,
            "grid_auto_columns": null,
            "grid_auto_flow": null,
            "grid_auto_rows": null,
            "grid_column": null,
            "grid_gap": null,
            "grid_row": null,
            "grid_template_areas": null,
            "grid_template_columns": null,
            "grid_template_rows": null,
            "height": null,
            "justify_content": null,
            "justify_items": null,
            "left": null,
            "margin": null,
            "max_height": null,
            "max_width": null,
            "min_height": null,
            "min_width": null,
            "object_fit": null,
            "object_position": null,
            "order": null,
            "overflow": null,
            "overflow_x": null,
            "overflow_y": null,
            "padding": null,
            "right": null,
            "top": null,
            "visibility": null,
            "width": null
          }
        },
        "a71ce52a6a47496594c352fb610153a9": {
          "model_module": "@jupyter-widgets/base",
          "model_name": "LayoutModel",
          "model_module_version": "1.2.0",
          "state": {
            "_model_module": "@jupyter-widgets/base",
            "_model_module_version": "1.2.0",
            "_model_name": "LayoutModel",
            "_view_count": null,
            "_view_module": "@jupyter-widgets/base",
            "_view_module_version": "1.2.0",
            "_view_name": "LayoutView",
            "align_content": null,
            "align_items": null,
            "align_self": null,
            "border": null,
            "bottom": null,
            "display": null,
            "flex": null,
            "flex_flow": null,
            "grid_area": null,
            "grid_auto_columns": null,
            "grid_auto_flow": null,
            "grid_auto_rows": null,
            "grid_column": null,
            "grid_gap": null,
            "grid_row": null,
            "grid_template_areas": null,
            "grid_template_columns": null,
            "grid_template_rows": null,
            "height": null,
            "justify_content": null,
            "justify_items": null,
            "left": null,
            "margin": null,
            "max_height": null,
            "max_width": null,
            "min_height": null,
            "min_width": null,
            "object_fit": null,
            "object_position": null,
            "order": null,
            "overflow": null,
            "overflow_x": null,
            "overflow_y": null,
            "padding": null,
            "right": null,
            "top": null,
            "visibility": null,
            "width": null
          }
        },
        "33031a3130244ccca302b414e8109f94": {
          "model_module": "@jupyter-widgets/controls",
          "model_name": "DescriptionStyleModel",
          "model_module_version": "1.5.0",
          "state": {
            "_model_module": "@jupyter-widgets/controls",
            "_model_module_version": "1.5.0",
            "_model_name": "DescriptionStyleModel",
            "_view_count": null,
            "_view_module": "@jupyter-widgets/base",
            "_view_module_version": "1.2.0",
            "_view_name": "StyleView",
            "description_width": ""
          }
        },
        "19f99539625648629a47ba87adb1f345": {
          "model_module": "@jupyter-widgets/base",
          "model_name": "LayoutModel",
          "model_module_version": "1.2.0",
          "state": {
            "_model_module": "@jupyter-widgets/base",
            "_model_module_version": "1.2.0",
            "_model_name": "LayoutModel",
            "_view_count": null,
            "_view_module": "@jupyter-widgets/base",
            "_view_module_version": "1.2.0",
            "_view_name": "LayoutView",
            "align_content": null,
            "align_items": null,
            "align_self": null,
            "border": null,
            "bottom": null,
            "display": null,
            "flex": null,
            "flex_flow": null,
            "grid_area": null,
            "grid_auto_columns": null,
            "grid_auto_flow": null,
            "grid_auto_rows": null,
            "grid_column": null,
            "grid_gap": null,
            "grid_row": null,
            "grid_template_areas": null,
            "grid_template_columns": null,
            "grid_template_rows": null,
            "height": null,
            "justify_content": null,
            "justify_items": null,
            "left": null,
            "margin": null,
            "max_height": null,
            "max_width": null,
            "min_height": null,
            "min_width": null,
            "object_fit": null,
            "object_position": null,
            "order": null,
            "overflow": null,
            "overflow_x": null,
            "overflow_y": null,
            "padding": null,
            "right": null,
            "top": null,
            "visibility": null,
            "width": null
          }
        },
        "62d033facd544a329fc23a3946c4fdf4": {
          "model_module": "@jupyter-widgets/controls",
          "model_name": "ProgressStyleModel",
          "model_module_version": "1.5.0",
          "state": {
            "_model_module": "@jupyter-widgets/controls",
            "_model_module_version": "1.5.0",
            "_model_name": "ProgressStyleModel",
            "_view_count": null,
            "_view_module": "@jupyter-widgets/base",
            "_view_module_version": "1.2.0",
            "_view_name": "StyleView",
            "bar_color": null,
            "description_width": ""
          }
        },
        "a280c8760cc14024ac4531651e70ae8a": {
          "model_module": "@jupyter-widgets/base",
          "model_name": "LayoutModel",
          "model_module_version": "1.2.0",
          "state": {
            "_model_module": "@jupyter-widgets/base",
            "_model_module_version": "1.2.0",
            "_model_name": "LayoutModel",
            "_view_count": null,
            "_view_module": "@jupyter-widgets/base",
            "_view_module_version": "1.2.0",
            "_view_name": "LayoutView",
            "align_content": null,
            "align_items": null,
            "align_self": null,
            "border": null,
            "bottom": null,
            "display": null,
            "flex": null,
            "flex_flow": null,
            "grid_area": null,
            "grid_auto_columns": null,
            "grid_auto_flow": null,
            "grid_auto_rows": null,
            "grid_column": null,
            "grid_gap": null,
            "grid_row": null,
            "grid_template_areas": null,
            "grid_template_columns": null,
            "grid_template_rows": null,
            "height": null,
            "justify_content": null,
            "justify_items": null,
            "left": null,
            "margin": null,
            "max_height": null,
            "max_width": null,
            "min_height": null,
            "min_width": null,
            "object_fit": null,
            "object_position": null,
            "order": null,
            "overflow": null,
            "overflow_x": null,
            "overflow_y": null,
            "padding": null,
            "right": null,
            "top": null,
            "visibility": null,
            "width": null
          }
        },
        "79d5ce365a3745c6bf71b342751aa974": {
          "model_module": "@jupyter-widgets/controls",
          "model_name": "DescriptionStyleModel",
          "model_module_version": "1.5.0",
          "state": {
            "_model_module": "@jupyter-widgets/controls",
            "_model_module_version": "1.5.0",
            "_model_name": "DescriptionStyleModel",
            "_view_count": null,
            "_view_module": "@jupyter-widgets/base",
            "_view_module_version": "1.2.0",
            "_view_name": "StyleView",
            "description_width": ""
          }
        },
        "61b4660c4f3c4e4cab1f8f5929b87028": {
          "model_module": "@jupyter-widgets/controls",
          "model_name": "HBoxModel",
          "model_module_version": "1.5.0",
          "state": {
            "_dom_classes": [],
            "_model_module": "@jupyter-widgets/controls",
            "_model_module_version": "1.5.0",
            "_model_name": "HBoxModel",
            "_view_count": null,
            "_view_module": "@jupyter-widgets/controls",
            "_view_module_version": "1.5.0",
            "_view_name": "HBoxView",
            "box_style": "",
            "children": [
              "IPY_MODEL_1f7854a0eb63429baae407b4bf56659d",
              "IPY_MODEL_760acddd523742038063fe67121add20",
              "IPY_MODEL_6e36954abbc94a16bae4d8f9aa41e298"
            ],
            "layout": "IPY_MODEL_2f016ba0845a4b539ef379fb786ff6bc"
          }
        },
        "1f7854a0eb63429baae407b4bf56659d": {
          "model_module": "@jupyter-widgets/controls",
          "model_name": "HTMLModel",
          "model_module_version": "1.5.0",
          "state": {
            "_dom_classes": [],
            "_model_module": "@jupyter-widgets/controls",
            "_model_module_version": "1.5.0",
            "_model_name": "HTMLModel",
            "_view_count": null,
            "_view_module": "@jupyter-widgets/controls",
            "_view_module_version": "1.5.0",
            "_view_name": "HTMLView",
            "description": "",
            "description_tooltip": null,
            "layout": "IPY_MODEL_5d59d90451b1441a8da3359b81c58ebf",
            "placeholder": "​",
            "style": "IPY_MODEL_e9631bb3ad25467c81f15ec9bc48e623",
            "value": "(…)base-uncased/resolve/main/tokenizer.json: 100%"
          }
        },
        "760acddd523742038063fe67121add20": {
          "model_module": "@jupyter-widgets/controls",
          "model_name": "FloatProgressModel",
          "model_module_version": "1.5.0",
          "state": {
            "_dom_classes": [],
            "_model_module": "@jupyter-widgets/controls",
            "_model_module_version": "1.5.0",
            "_model_name": "FloatProgressModel",
            "_view_count": null,
            "_view_module": "@jupyter-widgets/controls",
            "_view_module_version": "1.5.0",
            "_view_name": "ProgressView",
            "bar_style": "success",
            "description": "",
            "description_tooltip": null,
            "layout": "IPY_MODEL_2fe7dddd97a34bad8ae85c0bb5cdc934",
            "max": 466062,
            "min": 0,
            "orientation": "horizontal",
            "style": "IPY_MODEL_e97855721e89454bbe1641a235cd9132",
            "value": 466062
          }
        },
        "6e36954abbc94a16bae4d8f9aa41e298": {
          "model_module": "@jupyter-widgets/controls",
          "model_name": "HTMLModel",
          "model_module_version": "1.5.0",
          "state": {
            "_dom_classes": [],
            "_model_module": "@jupyter-widgets/controls",
            "_model_module_version": "1.5.0",
            "_model_name": "HTMLModel",
            "_view_count": null,
            "_view_module": "@jupyter-widgets/controls",
            "_view_module_version": "1.5.0",
            "_view_name": "HTMLView",
            "description": "",
            "description_tooltip": null,
            "layout": "IPY_MODEL_4c99cd246cc345529003e3f801dbf553",
            "placeholder": "​",
            "style": "IPY_MODEL_1c6bda6f10b142c3ae46ea66e07b196b",
            "value": " 466k/466k [00:00&lt;00:00, 1.19MB/s]"
          }
        },
        "2f016ba0845a4b539ef379fb786ff6bc": {
          "model_module": "@jupyter-widgets/base",
          "model_name": "LayoutModel",
          "model_module_version": "1.2.0",
          "state": {
            "_model_module": "@jupyter-widgets/base",
            "_model_module_version": "1.2.0",
            "_model_name": "LayoutModel",
            "_view_count": null,
            "_view_module": "@jupyter-widgets/base",
            "_view_module_version": "1.2.0",
            "_view_name": "LayoutView",
            "align_content": null,
            "align_items": null,
            "align_self": null,
            "border": null,
            "bottom": null,
            "display": null,
            "flex": null,
            "flex_flow": null,
            "grid_area": null,
            "grid_auto_columns": null,
            "grid_auto_flow": null,
            "grid_auto_rows": null,
            "grid_column": null,
            "grid_gap": null,
            "grid_row": null,
            "grid_template_areas": null,
            "grid_template_columns": null,
            "grid_template_rows": null,
            "height": null,
            "justify_content": null,
            "justify_items": null,
            "left": null,
            "margin": null,
            "max_height": null,
            "max_width": null,
            "min_height": null,
            "min_width": null,
            "object_fit": null,
            "object_position": null,
            "order": null,
            "overflow": null,
            "overflow_x": null,
            "overflow_y": null,
            "padding": null,
            "right": null,
            "top": null,
            "visibility": null,
            "width": null
          }
        },
        "5d59d90451b1441a8da3359b81c58ebf": {
          "model_module": "@jupyter-widgets/base",
          "model_name": "LayoutModel",
          "model_module_version": "1.2.0",
          "state": {
            "_model_module": "@jupyter-widgets/base",
            "_model_module_version": "1.2.0",
            "_model_name": "LayoutModel",
            "_view_count": null,
            "_view_module": "@jupyter-widgets/base",
            "_view_module_version": "1.2.0",
            "_view_name": "LayoutView",
            "align_content": null,
            "align_items": null,
            "align_self": null,
            "border": null,
            "bottom": null,
            "display": null,
            "flex": null,
            "flex_flow": null,
            "grid_area": null,
            "grid_auto_columns": null,
            "grid_auto_flow": null,
            "grid_auto_rows": null,
            "grid_column": null,
            "grid_gap": null,
            "grid_row": null,
            "grid_template_areas": null,
            "grid_template_columns": null,
            "grid_template_rows": null,
            "height": null,
            "justify_content": null,
            "justify_items": null,
            "left": null,
            "margin": null,
            "max_height": null,
            "max_width": null,
            "min_height": null,
            "min_width": null,
            "object_fit": null,
            "object_position": null,
            "order": null,
            "overflow": null,
            "overflow_x": null,
            "overflow_y": null,
            "padding": null,
            "right": null,
            "top": null,
            "visibility": null,
            "width": null
          }
        },
        "e9631bb3ad25467c81f15ec9bc48e623": {
          "model_module": "@jupyter-widgets/controls",
          "model_name": "DescriptionStyleModel",
          "model_module_version": "1.5.0",
          "state": {
            "_model_module": "@jupyter-widgets/controls",
            "_model_module_version": "1.5.0",
            "_model_name": "DescriptionStyleModel",
            "_view_count": null,
            "_view_module": "@jupyter-widgets/base",
            "_view_module_version": "1.2.0",
            "_view_name": "StyleView",
            "description_width": ""
          }
        },
        "2fe7dddd97a34bad8ae85c0bb5cdc934": {
          "model_module": "@jupyter-widgets/base",
          "model_name": "LayoutModel",
          "model_module_version": "1.2.0",
          "state": {
            "_model_module": "@jupyter-widgets/base",
            "_model_module_version": "1.2.0",
            "_model_name": "LayoutModel",
            "_view_count": null,
            "_view_module": "@jupyter-widgets/base",
            "_view_module_version": "1.2.0",
            "_view_name": "LayoutView",
            "align_content": null,
            "align_items": null,
            "align_self": null,
            "border": null,
            "bottom": null,
            "display": null,
            "flex": null,
            "flex_flow": null,
            "grid_area": null,
            "grid_auto_columns": null,
            "grid_auto_flow": null,
            "grid_auto_rows": null,
            "grid_column": null,
            "grid_gap": null,
            "grid_row": null,
            "grid_template_areas": null,
            "grid_template_columns": null,
            "grid_template_rows": null,
            "height": null,
            "justify_content": null,
            "justify_items": null,
            "left": null,
            "margin": null,
            "max_height": null,
            "max_width": null,
            "min_height": null,
            "min_width": null,
            "object_fit": null,
            "object_position": null,
            "order": null,
            "overflow": null,
            "overflow_x": null,
            "overflow_y": null,
            "padding": null,
            "right": null,
            "top": null,
            "visibility": null,
            "width": null
          }
        },
        "e97855721e89454bbe1641a235cd9132": {
          "model_module": "@jupyter-widgets/controls",
          "model_name": "ProgressStyleModel",
          "model_module_version": "1.5.0",
          "state": {
            "_model_module": "@jupyter-widgets/controls",
            "_model_module_version": "1.5.0",
            "_model_name": "ProgressStyleModel",
            "_view_count": null,
            "_view_module": "@jupyter-widgets/base",
            "_view_module_version": "1.2.0",
            "_view_name": "StyleView",
            "bar_color": null,
            "description_width": ""
          }
        },
        "4c99cd246cc345529003e3f801dbf553": {
          "model_module": "@jupyter-widgets/base",
          "model_name": "LayoutModel",
          "model_module_version": "1.2.0",
          "state": {
            "_model_module": "@jupyter-widgets/base",
            "_model_module_version": "1.2.0",
            "_model_name": "LayoutModel",
            "_view_count": null,
            "_view_module": "@jupyter-widgets/base",
            "_view_module_version": "1.2.0",
            "_view_name": "LayoutView",
            "align_content": null,
            "align_items": null,
            "align_self": null,
            "border": null,
            "bottom": null,
            "display": null,
            "flex": null,
            "flex_flow": null,
            "grid_area": null,
            "grid_auto_columns": null,
            "grid_auto_flow": null,
            "grid_auto_rows": null,
            "grid_column": null,
            "grid_gap": null,
            "grid_row": null,
            "grid_template_areas": null,
            "grid_template_columns": null,
            "grid_template_rows": null,
            "height": null,
            "justify_content": null,
            "justify_items": null,
            "left": null,
            "margin": null,
            "max_height": null,
            "max_width": null,
            "min_height": null,
            "min_width": null,
            "object_fit": null,
            "object_position": null,
            "order": null,
            "overflow": null,
            "overflow_x": null,
            "overflow_y": null,
            "padding": null,
            "right": null,
            "top": null,
            "visibility": null,
            "width": null
          }
        },
        "1c6bda6f10b142c3ae46ea66e07b196b": {
          "model_module": "@jupyter-widgets/controls",
          "model_name": "DescriptionStyleModel",
          "model_module_version": "1.5.0",
          "state": {
            "_model_module": "@jupyter-widgets/controls",
            "_model_module_version": "1.5.0",
            "_model_name": "DescriptionStyleModel",
            "_view_count": null,
            "_view_module": "@jupyter-widgets/base",
            "_view_module_version": "1.2.0",
            "_view_name": "StyleView",
            "description_width": ""
          }
        },
        "0c503fcdf6be41b9aca8ac169186f5d3": {
          "model_module": "@jupyter-widgets/controls",
          "model_name": "HBoxModel",
          "model_module_version": "1.5.0",
          "state": {
            "_dom_classes": [],
            "_model_module": "@jupyter-widgets/controls",
            "_model_module_version": "1.5.0",
            "_model_name": "HBoxModel",
            "_view_count": null,
            "_view_module": "@jupyter-widgets/controls",
            "_view_module_version": "1.5.0",
            "_view_name": "HBoxView",
            "box_style": "",
            "children": [
              "IPY_MODEL_6593fcb29069499dbce891ae4956ae9e",
              "IPY_MODEL_42128505a5dd4a178a82e4f0ae1d6f42",
              "IPY_MODEL_30119472296d4a6da2d6e747af33c9d2"
            ],
            "layout": "IPY_MODEL_24d1534e71194778be66a06e0f2b5ca1"
          }
        },
        "6593fcb29069499dbce891ae4956ae9e": {
          "model_module": "@jupyter-widgets/controls",
          "model_name": "HTMLModel",
          "model_module_version": "1.5.0",
          "state": {
            "_dom_classes": [],
            "_model_module": "@jupyter-widgets/controls",
            "_model_module_version": "1.5.0",
            "_model_name": "HTMLModel",
            "_view_count": null,
            "_view_module": "@jupyter-widgets/controls",
            "_view_module_version": "1.5.0",
            "_view_name": "HTMLView",
            "description": "",
            "description_tooltip": null,
            "layout": "IPY_MODEL_8794e8d9adfe48288ab53fc743dc88d7",
            "placeholder": "​",
            "style": "IPY_MODEL_2e8c4cccebe249259ef38f160003370f",
            "value": "model.safetensors: 100%"
          }
        },
        "42128505a5dd4a178a82e4f0ae1d6f42": {
          "model_module": "@jupyter-widgets/controls",
          "model_name": "FloatProgressModel",
          "model_module_version": "1.5.0",
          "state": {
            "_dom_classes": [],
            "_model_module": "@jupyter-widgets/controls",
            "_model_module_version": "1.5.0",
            "_model_name": "FloatProgressModel",
            "_view_count": null,
            "_view_module": "@jupyter-widgets/controls",
            "_view_module_version": "1.5.0",
            "_view_name": "ProgressView",
            "bar_style": "success",
            "description": "",
            "description_tooltip": null,
            "layout": "IPY_MODEL_a3a4937eb4e84f16b9043a0832b5eaf5",
            "max": 440449768,
            "min": 0,
            "orientation": "horizontal",
            "style": "IPY_MODEL_40d4d688781a439d9938cadc719dc714",
            "value": 440449768
          }
        },
        "30119472296d4a6da2d6e747af33c9d2": {
          "model_module": "@jupyter-widgets/controls",
          "model_name": "HTMLModel",
          "model_module_version": "1.5.0",
          "state": {
            "_dom_classes": [],
            "_model_module": "@jupyter-widgets/controls",
            "_model_module_version": "1.5.0",
            "_model_name": "HTMLModel",
            "_view_count": null,
            "_view_module": "@jupyter-widgets/controls",
            "_view_module_version": "1.5.0",
            "_view_name": "HTMLView",
            "description": "",
            "description_tooltip": null,
            "layout": "IPY_MODEL_cf32924d97114b3a9d14b736ad89b165",
            "placeholder": "​",
            "style": "IPY_MODEL_f7be9f8783ee4c11b005cd3a5d228f2f",
            "value": " 440M/440M [00:01&lt;00:00, 339MB/s]"
          }
        },
        "24d1534e71194778be66a06e0f2b5ca1": {
          "model_module": "@jupyter-widgets/base",
          "model_name": "LayoutModel",
          "model_module_version": "1.2.0",
          "state": {
            "_model_module": "@jupyter-widgets/base",
            "_model_module_version": "1.2.0",
            "_model_name": "LayoutModel",
            "_view_count": null,
            "_view_module": "@jupyter-widgets/base",
            "_view_module_version": "1.2.0",
            "_view_name": "LayoutView",
            "align_content": null,
            "align_items": null,
            "align_self": null,
            "border": null,
            "bottom": null,
            "display": null,
            "flex": null,
            "flex_flow": null,
            "grid_area": null,
            "grid_auto_columns": null,
            "grid_auto_flow": null,
            "grid_auto_rows": null,
            "grid_column": null,
            "grid_gap": null,
            "grid_row": null,
            "grid_template_areas": null,
            "grid_template_columns": null,
            "grid_template_rows": null,
            "height": null,
            "justify_content": null,
            "justify_items": null,
            "left": null,
            "margin": null,
            "max_height": null,
            "max_width": null,
            "min_height": null,
            "min_width": null,
            "object_fit": null,
            "object_position": null,
            "order": null,
            "overflow": null,
            "overflow_x": null,
            "overflow_y": null,
            "padding": null,
            "right": null,
            "top": null,
            "visibility": null,
            "width": null
          }
        },
        "8794e8d9adfe48288ab53fc743dc88d7": {
          "model_module": "@jupyter-widgets/base",
          "model_name": "LayoutModel",
          "model_module_version": "1.2.0",
          "state": {
            "_model_module": "@jupyter-widgets/base",
            "_model_module_version": "1.2.0",
            "_model_name": "LayoutModel",
            "_view_count": null,
            "_view_module": "@jupyter-widgets/base",
            "_view_module_version": "1.2.0",
            "_view_name": "LayoutView",
            "align_content": null,
            "align_items": null,
            "align_self": null,
            "border": null,
            "bottom": null,
            "display": null,
            "flex": null,
            "flex_flow": null,
            "grid_area": null,
            "grid_auto_columns": null,
            "grid_auto_flow": null,
            "grid_auto_rows": null,
            "grid_column": null,
            "grid_gap": null,
            "grid_row": null,
            "grid_template_areas": null,
            "grid_template_columns": null,
            "grid_template_rows": null,
            "height": null,
            "justify_content": null,
            "justify_items": null,
            "left": null,
            "margin": null,
            "max_height": null,
            "max_width": null,
            "min_height": null,
            "min_width": null,
            "object_fit": null,
            "object_position": null,
            "order": null,
            "overflow": null,
            "overflow_x": null,
            "overflow_y": null,
            "padding": null,
            "right": null,
            "top": null,
            "visibility": null,
            "width": null
          }
        },
        "2e8c4cccebe249259ef38f160003370f": {
          "model_module": "@jupyter-widgets/controls",
          "model_name": "DescriptionStyleModel",
          "model_module_version": "1.5.0",
          "state": {
            "_model_module": "@jupyter-widgets/controls",
            "_model_module_version": "1.5.0",
            "_model_name": "DescriptionStyleModel",
            "_view_count": null,
            "_view_module": "@jupyter-widgets/base",
            "_view_module_version": "1.2.0",
            "_view_name": "StyleView",
            "description_width": ""
          }
        },
        "a3a4937eb4e84f16b9043a0832b5eaf5": {
          "model_module": "@jupyter-widgets/base",
          "model_name": "LayoutModel",
          "model_module_version": "1.2.0",
          "state": {
            "_model_module": "@jupyter-widgets/base",
            "_model_module_version": "1.2.0",
            "_model_name": "LayoutModel",
            "_view_count": null,
            "_view_module": "@jupyter-widgets/base",
            "_view_module_version": "1.2.0",
            "_view_name": "LayoutView",
            "align_content": null,
            "align_items": null,
            "align_self": null,
            "border": null,
            "bottom": null,
            "display": null,
            "flex": null,
            "flex_flow": null,
            "grid_area": null,
            "grid_auto_columns": null,
            "grid_auto_flow": null,
            "grid_auto_rows": null,
            "grid_column": null,
            "grid_gap": null,
            "grid_row": null,
            "grid_template_areas": null,
            "grid_template_columns": null,
            "grid_template_rows": null,
            "height": null,
            "justify_content": null,
            "justify_items": null,
            "left": null,
            "margin": null,
            "max_height": null,
            "max_width": null,
            "min_height": null,
            "min_width": null,
            "object_fit": null,
            "object_position": null,
            "order": null,
            "overflow": null,
            "overflow_x": null,
            "overflow_y": null,
            "padding": null,
            "right": null,
            "top": null,
            "visibility": null,
            "width": null
          }
        },
        "40d4d688781a439d9938cadc719dc714": {
          "model_module": "@jupyter-widgets/controls",
          "model_name": "ProgressStyleModel",
          "model_module_version": "1.5.0",
          "state": {
            "_model_module": "@jupyter-widgets/controls",
            "_model_module_version": "1.5.0",
            "_model_name": "ProgressStyleModel",
            "_view_count": null,
            "_view_module": "@jupyter-widgets/base",
            "_view_module_version": "1.2.0",
            "_view_name": "StyleView",
            "bar_color": null,
            "description_width": ""
          }
        },
        "cf32924d97114b3a9d14b736ad89b165": {
          "model_module": "@jupyter-widgets/base",
          "model_name": "LayoutModel",
          "model_module_version": "1.2.0",
          "state": {
            "_model_module": "@jupyter-widgets/base",
            "_model_module_version": "1.2.0",
            "_model_name": "LayoutModel",
            "_view_count": null,
            "_view_module": "@jupyter-widgets/base",
            "_view_module_version": "1.2.0",
            "_view_name": "LayoutView",
            "align_content": null,
            "align_items": null,
            "align_self": null,
            "border": null,
            "bottom": null,
            "display": null,
            "flex": null,
            "flex_flow": null,
            "grid_area": null,
            "grid_auto_columns": null,
            "grid_auto_flow": null,
            "grid_auto_rows": null,
            "grid_column": null,
            "grid_gap": null,
            "grid_row": null,
            "grid_template_areas": null,
            "grid_template_columns": null,
            "grid_template_rows": null,
            "height": null,
            "justify_content": null,
            "justify_items": null,
            "left": null,
            "margin": null,
            "max_height": null,
            "max_width": null,
            "min_height": null,
            "min_width": null,
            "object_fit": null,
            "object_position": null,
            "order": null,
            "overflow": null,
            "overflow_x": null,
            "overflow_y": null,
            "padding": null,
            "right": null,
            "top": null,
            "visibility": null,
            "width": null
          }
        },
        "f7be9f8783ee4c11b005cd3a5d228f2f": {
          "model_module": "@jupyter-widgets/controls",
          "model_name": "DescriptionStyleModel",
          "model_module_version": "1.5.0",
          "state": {
            "_model_module": "@jupyter-widgets/controls",
            "_model_module_version": "1.5.0",
            "_model_name": "DescriptionStyleModel",
            "_view_count": null,
            "_view_module": "@jupyter-widgets/base",
            "_view_module_version": "1.2.0",
            "_view_name": "StyleView",
            "description_width": ""
          }
        }
      }
    }
  },
  "nbformat": 4,
  "nbformat_minor": 0
}